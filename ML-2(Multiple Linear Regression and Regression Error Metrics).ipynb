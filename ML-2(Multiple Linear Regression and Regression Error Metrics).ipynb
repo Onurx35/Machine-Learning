{
 "cells": [
  {
   "cell_type": "markdown",
   "id": "roman-genesis",
   "metadata": {},
   "source": [
    "## Multiple Linear Regression"
   ]
  },
  {
   "cell_type": "markdown",
   "id": "complex-president",
   "metadata": {},
   "source": [
    "## Import library"
   ]
  },
  {
   "cell_type": "code",
   "execution_count": 1,
   "id": "ce76003f",
   "metadata": {},
   "outputs": [],
   "source": [
    "import numpy as np\n",
    "import pandas as pd\n",
    "import matplotlib.pyplot as plt\n",
    "import seaborn as sns\n",
    "import scipy.stats as stats\n",
    "plt.rcParams[\"figure.figsize\"] = (10,6)\n",
    "import warnings\n",
    "warnings.filterwarnings(\"ignore\")"
   ]
  },
  {
   "cell_type": "markdown",
   "id": "incorporate-denver",
   "metadata": {},
   "source": [
    "## Read Dataset"
   ]
  },
  {
   "cell_type": "code",
   "execution_count": 2,
   "id": "da6a6bc6",
   "metadata": {},
   "outputs": [
    {
     "data": {
      "text/html": [
       "<div>\n",
       "<style scoped>\n",
       "    .dataframe tbody tr th:only-of-type {\n",
       "        vertical-align: middle;\n",
       "    }\n",
       "\n",
       "    .dataframe tbody tr th {\n",
       "        vertical-align: top;\n",
       "    }\n",
       "\n",
       "    .dataframe thead th {\n",
       "        text-align: right;\n",
       "    }\n",
       "</style>\n",
       "<table border=\"1\" class=\"dataframe\">\n",
       "  <thead>\n",
       "    <tr style=\"text-align: right;\">\n",
       "      <th></th>\n",
       "      <th>TV</th>\n",
       "      <th>radio</th>\n",
       "      <th>newspaper</th>\n",
       "      <th>sales</th>\n",
       "    </tr>\n",
       "  </thead>\n",
       "  <tbody>\n",
       "    <tr>\n",
       "      <th>0</th>\n",
       "      <td>230.1</td>\n",
       "      <td>37.8</td>\n",
       "      <td>69.2</td>\n",
       "      <td>22.1</td>\n",
       "    </tr>\n",
       "    <tr>\n",
       "      <th>1</th>\n",
       "      <td>44.5</td>\n",
       "      <td>39.3</td>\n",
       "      <td>45.1</td>\n",
       "      <td>10.4</td>\n",
       "    </tr>\n",
       "    <tr>\n",
       "      <th>2</th>\n",
       "      <td>17.2</td>\n",
       "      <td>45.9</td>\n",
       "      <td>69.3</td>\n",
       "      <td>9.3</td>\n",
       "    </tr>\n",
       "    <tr>\n",
       "      <th>3</th>\n",
       "      <td>151.5</td>\n",
       "      <td>41.3</td>\n",
       "      <td>58.5</td>\n",
       "      <td>18.5</td>\n",
       "    </tr>\n",
       "    <tr>\n",
       "      <th>4</th>\n",
       "      <td>180.8</td>\n",
       "      <td>10.8</td>\n",
       "      <td>58.4</td>\n",
       "      <td>12.9</td>\n",
       "    </tr>\n",
       "  </tbody>\n",
       "</table>\n",
       "</div>"
      ],
      "text/plain": [
       "      TV  radio  newspaper  sales\n",
       "0  230.1   37.8       69.2   22.1\n",
       "1   44.5   39.3       45.1   10.4\n",
       "2   17.2   45.9       69.3    9.3\n",
       "3  151.5   41.3       58.5   18.5\n",
       "4  180.8   10.8       58.4   12.9"
      ]
     },
     "execution_count": 2,
     "metadata": {},
     "output_type": "execute_result"
    }
   ],
   "source": [
    "df = pd.read_csv(\"Advertising.csv\")\n",
    "df.head()"
   ]
  },
  {
   "cell_type": "markdown",
   "id": "focal-employee",
   "metadata": {},
   "source": [
    "## Data Preparation"
   ]
  },
  {
   "cell_type": "code",
   "execution_count": 3,
   "id": "f9dfd568",
   "metadata": {},
   "outputs": [
    {
     "name": "stdout",
     "output_type": "stream",
     "text": [
      "<class 'pandas.core.frame.DataFrame'>\n",
      "RangeIndex: 200 entries, 0 to 199\n",
      "Data columns (total 4 columns):\n",
      " #   Column     Non-Null Count  Dtype  \n",
      "---  ------     --------------  -----  \n",
      " 0   TV         200 non-null    float64\n",
      " 1   radio      200 non-null    float64\n",
      " 2   newspaper  200 non-null    float64\n",
      " 3   sales      200 non-null    float64\n",
      "dtypes: float64(4)\n",
      "memory usage: 6.4 KB\n"
     ]
    }
   ],
   "source": [
    "df.info()"
   ]
  },
  {
   "cell_type": "code",
   "execution_count": 70,
   "id": "7e077245",
   "metadata": {},
   "outputs": [
    {
     "data": {
      "text/html": [
       "<div>\n",
       "<style scoped>\n",
       "    .dataframe tbody tr th:only-of-type {\n",
       "        vertical-align: middle;\n",
       "    }\n",
       "\n",
       "    .dataframe tbody tr th {\n",
       "        vertical-align: top;\n",
       "    }\n",
       "\n",
       "    .dataframe thead th {\n",
       "        text-align: right;\n",
       "    }\n",
       "</style>\n",
       "<table border=\"1\" class=\"dataframe\">\n",
       "  <thead>\n",
       "    <tr style=\"text-align: right;\">\n",
       "      <th></th>\n",
       "      <th>TV</th>\n",
       "      <th>radio</th>\n",
       "      <th>newspaper</th>\n",
       "      <th>sales</th>\n",
       "    </tr>\n",
       "  </thead>\n",
       "  <tbody>\n",
       "    <tr>\n",
       "      <th>count</th>\n",
       "      <td>200.000000</td>\n",
       "      <td>200.000000</td>\n",
       "      <td>200.000000</td>\n",
       "      <td>200.000000</td>\n",
       "    </tr>\n",
       "    <tr>\n",
       "      <th>mean</th>\n",
       "      <td>147.042500</td>\n",
       "      <td>23.264000</td>\n",
       "      <td>30.554000</td>\n",
       "      <td>14.022500</td>\n",
       "    </tr>\n",
       "    <tr>\n",
       "      <th>std</th>\n",
       "      <td>85.854236</td>\n",
       "      <td>14.846809</td>\n",
       "      <td>21.778621</td>\n",
       "      <td>5.217457</td>\n",
       "    </tr>\n",
       "    <tr>\n",
       "      <th>min</th>\n",
       "      <td>0.700000</td>\n",
       "      <td>0.000000</td>\n",
       "      <td>0.300000</td>\n",
       "      <td>1.600000</td>\n",
       "    </tr>\n",
       "    <tr>\n",
       "      <th>25%</th>\n",
       "      <td>74.375000</td>\n",
       "      <td>9.975000</td>\n",
       "      <td>12.750000</td>\n",
       "      <td>10.375000</td>\n",
       "    </tr>\n",
       "    <tr>\n",
       "      <th>50%</th>\n",
       "      <td>149.750000</td>\n",
       "      <td>22.900000</td>\n",
       "      <td>25.750000</td>\n",
       "      <td>12.900000</td>\n",
       "    </tr>\n",
       "    <tr>\n",
       "      <th>75%</th>\n",
       "      <td>218.825000</td>\n",
       "      <td>36.525000</td>\n",
       "      <td>45.100000</td>\n",
       "      <td>17.400000</td>\n",
       "    </tr>\n",
       "    <tr>\n",
       "      <th>max</th>\n",
       "      <td>296.400000</td>\n",
       "      <td>49.600000</td>\n",
       "      <td>114.000000</td>\n",
       "      <td>27.000000</td>\n",
       "    </tr>\n",
       "  </tbody>\n",
       "</table>\n",
       "</div>"
      ],
      "text/plain": [
       "               TV       radio   newspaper       sales\n",
       "count  200.000000  200.000000  200.000000  200.000000\n",
       "mean   147.042500   23.264000   30.554000   14.022500\n",
       "std     85.854236   14.846809   21.778621    5.217457\n",
       "min      0.700000    0.000000    0.300000    1.600000\n",
       "25%     74.375000    9.975000   12.750000   10.375000\n",
       "50%    149.750000   22.900000   25.750000   12.900000\n",
       "75%    218.825000   36.525000   45.100000   17.400000\n",
       "max    296.400000   49.600000  114.000000   27.000000"
      ]
     },
     "execution_count": 70,
     "metadata": {},
     "output_type": "execute_result"
    }
   ],
   "source": [
    "df.describe()\n",
    "\n",
    "# std meanden büyükse outlier sorunu olabilir,\n",
    "\n",
    "# 25 ile min veya 75 ile max. arasında ciddi bir fark varsa outlier üzerinde durulmalı."
   ]
  },
  {
   "cell_type": "code",
   "execution_count": 5,
   "id": "c453a38a",
   "metadata": {},
   "outputs": [
    {
     "data": {
      "text/plain": [
       "(200, 4)"
      ]
     },
     "execution_count": 5,
     "metadata": {},
     "output_type": "execute_result"
    }
   ],
   "source": [
    "df.shape"
   ]
  },
  {
   "cell_type": "code",
   "execution_count": 6,
   "id": "7489f774",
   "metadata": {},
   "outputs": [],
   "source": [
    "def check_dist(df, var):\n",
    "    plt.subplot(1,2,1)\n",
    "    sns.histplot(x=var, data=df, kde=True)\n",
    "    plt.subplot(1,2,2)\n",
    "    stats.probplot(df[var], dist=\"norm\", plot=plt)\n",
    "    plt.show()"
   ]
  },
  {
   "cell_type": "code",
   "execution_count": 69,
   "id": "65ea4d89",
   "metadata": {},
   "outputs": [
    {
     "data": {
      "image/png": "[encoded data removed]",
      "text/plain": [
       "<Figure size 576x396 with 2 Axes>"
      ]
     },
     "metadata": {},
     "output_type": "display_data"
    },
    {
     "data": {
      "image/png": "[encoded data removed]",
      "text/plain": [
       "<Figure size 576x396 with 2 Axes>"
      ]
     },
     "metadata": {},
     "output_type": "display_data"
    },
    {
     "data": {
      "image/png": "[encoded data removed]",
      "text/plain": [
       "<Figure size 576x396 with 2 Axes>"
      ]
     },
     "metadata": {},
     "output_type": "display_data"
    }
   ],
   "source": [
    "for col in df.drop(\"sales\", axis=1).columns:\n",
    "    check_dist(df, col)\n",
    "    \n",
    "# değerlerim line etrafında bir sarmaşık gibi dolanmışsa burda normal dağılım var diyebiliriz.\n",
    "# ama bir tarafta sapma (line'dan uzaklaşma) varsa normal dağılımdan uzaklaşmış demektir."
   ]
  },
  {
   "cell_type": "code",
   "execution_count": 8,
   "id": "56d9339c",
   "metadata": {},
   "outputs": [
    {
     "name": "stdout",
     "output_type": "stream",
     "text": [
      "TV -0.06932836662244649\n",
      "radio 0.0934668451108453\n",
      "newspaper 0.8879959753085498\n"
     ]
    }
   ],
   "source": [
    "from scipy.stats import skew\n",
    "for i in df.drop(columns=\"sales\").columns:\n",
    "    print(i, skew(df[i]))"
   ]
  },
  {
   "cell_type": "code",
   "execution_count": 71,
   "id": "75b0f102",
   "metadata": {},
   "outputs": [],
   "source": [
    "# lineer regression uygulayabilmemiz için kabul edilebilir skewness aralığı -1 ile +1 arasındadır.\n",
    "\n",
    "# \"skew değeri -1, +1 'den büyükse linear regresyon uygulayamayız diye kesin bir hüküm veremeyiz. Sadece linear regresyon uyguladığımızda sonuçlarımız çok iyi çıkmayabilir şeklinde yorumlayabiliriz. datayı linear modele sokup skorları görmeden net birey konuşmayız. skew bize sadece bir öngörü sağlar\" **Johnson hoca düzeltme**\n",
    "\n",
    "# eğer skew değerim -0.5 ile +0.5 arasında bir değerde ise ise normal dağılımdan bahsedebiliriz ve dolayısıyla lineer regression için uygundur. \n",
    "\n",
    "# 0.5 ile 1 arasında ise orta seviyede (moderate) skewness olduğunu söyleyebiliriz. bu durumda da lineer regression kullanabiliriz ama -/+ 1 den büyük ise lineer reg. uygulayamayız. "
   ]
  },
  {
   "cell_type": "code",
   "execution_count": 72,
   "id": "1ba643d4",
   "metadata": {
    "scrolled": false
   },
   "outputs": [
    {
     "data": {
      "text/plain": [
       "<seaborn.axisgrid.PairGrid at 0x286290f68b0>"
      ]
     },
     "execution_count": 72,
     "metadata": {},
     "output_type": "execute_result"
    },
    {
     "data": {
      "image/png": "[encoded data removed]",
      "text/plain": [
       "<Figure size 720x720 with 20 Axes>"
      ]
     },
     "metadata": {},
     "output_type": "display_data"
    }
   ],
   "source": [
    "sns.pairplot(df)\n",
    "\n",
    "# TV-sales : pozitif güçlü\n",
    "\n",
    "# RADIO-sales: ORTA\n",
    "\n",
    "# NEWSPAPER - sales: zayıf"
   ]
  },
  {
   "cell_type": "code",
   "execution_count": 74,
   "id": "b6bc71c7",
   "metadata": {},
   "outputs": [
    {
     "data": {
      "text/html": [
       "<div>\n",
       "<style scoped>\n",
       "    .dataframe tbody tr th:only-of-type {\n",
       "        vertical-align: middle;\n",
       "    }\n",
       "\n",
       "    .dataframe tbody tr th {\n",
       "        vertical-align: top;\n",
       "    }\n",
       "\n",
       "    .dataframe thead th {\n",
       "        text-align: right;\n",
       "    }\n",
       "</style>\n",
       "<table border=\"1\" class=\"dataframe\">\n",
       "  <thead>\n",
       "    <tr style=\"text-align: right;\">\n",
       "      <th></th>\n",
       "      <th>TV</th>\n",
       "      <th>radio</th>\n",
       "      <th>newspaper</th>\n",
       "      <th>sales</th>\n",
       "    </tr>\n",
       "  </thead>\n",
       "  <tbody>\n",
       "    <tr>\n",
       "      <th>TV</th>\n",
       "      <td>1.000000</td>\n",
       "      <td>0.054809</td>\n",
       "      <td>0.056648</td>\n",
       "      <td>0.782224</td>\n",
       "    </tr>\n",
       "    <tr>\n",
       "      <th>radio</th>\n",
       "      <td>0.054809</td>\n",
       "      <td>1.000000</td>\n",
       "      <td>0.354104</td>\n",
       "      <td>0.576223</td>\n",
       "    </tr>\n",
       "    <tr>\n",
       "      <th>newspaper</th>\n",
       "      <td>0.056648</td>\n",
       "      <td>0.354104</td>\n",
       "      <td>1.000000</td>\n",
       "      <td>0.228299</td>\n",
       "    </tr>\n",
       "    <tr>\n",
       "      <th>sales</th>\n",
       "      <td>0.782224</td>\n",
       "      <td>0.576223</td>\n",
       "      <td>0.228299</td>\n",
       "      <td>1.000000</td>\n",
       "    </tr>\n",
       "  </tbody>\n",
       "</table>\n",
       "</div>"
      ],
      "text/plain": [
       "                 TV     radio  newspaper     sales\n",
       "TV         1.000000  0.054809   0.056648  0.782224\n",
       "radio      0.054809  1.000000   0.354104  0.576223\n",
       "newspaper  0.056648  0.354104   1.000000  0.228299\n",
       "sales      0.782224  0.576223   0.228299  1.000000"
      ]
     },
     "execution_count": 74,
     "metadata": {},
     "output_type": "execute_result"
    }
   ],
   "source": [
    "df.corr()\n",
    "\n",
    "#Tüm dependent feature'ların independent feature (target/label) ile olan bağlılıklarına bakıyoruz. \n",
    "# Aralarındaki ilişkinin gücü bana hangi feature'ların tahmin etmede daha önemli olduğu konusunda bir fikir verse de sadece corr ile buna karar veremeyiz. \n",
    "# Corr ile bir lineerity var mı ona bakarız\n",
    "# correlasyon bana bir linearity den bahsedebilir miyiz bahsedemez miyiz bana bunu söylüyor."
   ]
  },
  {
   "cell_type": "code",
   "execution_count": 11,
   "id": "b8c05f42",
   "metadata": {
    "scrolled": false
   },
   "outputs": [
    {
     "data": {
      "text/plain": [
       "<AxesSubplot:>"
      ]
     },
     "execution_count": 11,
     "metadata": {},
     "output_type": "execute_result"
    },
    {
     "data": {
      "image/png": "[encoded data removed]",
      "text/plain": [
       "<Figure size 720x432 with 2 Axes>"
      ]
     },
     "metadata": {
      "needs_background": "light"
     },
     "output_type": "display_data"
    }
   ],
   "source": [
    "sns.heatmap(df.corr(), annot = True)"
   ]
  },
  {
   "cell_type": "markdown",
   "id": "fa85f4c6",
   "metadata": {},
   "source": [
    "## Train-Test Split"
   ]
  },
  {
   "cell_type": "code",
   "execution_count": 12,
   "id": "132c71d5",
   "metadata": {},
   "outputs": [],
   "source": [
    "X = df.drop(columns =\"sales\")  # df[[\"TV\", \"radio\", \"newspaper\"]]\n",
    "y = df[\"sales\"]"
   ]
  },
  {
   "cell_type": "code",
   "execution_count": 13,
   "id": "41da8268",
   "metadata": {},
   "outputs": [],
   "source": [
    "from sklearn.model_selection import train_test_split"
   ]
  },
  {
   "cell_type": "code",
   "execution_count": 75,
   "id": "d127e45f",
   "metadata": {},
   "outputs": [],
   "source": [
    "X_train, X_test, y_train, y_test = train_test_split(X, y, test_size = 0.3, random_state = 42)\n",
    "\n",
    "# test_size = 0.3 ile datamın yüzde 30'unun test verisi olarak ayırdım.\n",
    "\n",
    "# random_state=42 ile 42'yi kullandığım her defasında aynı train ve test datasını alacak. \n",
    "# mesela aynı datada çalışırken takım arkadaşlarınızla skorlarınızı karşılaştırabilmeniz için bunu aynı rakam girmelisin. \n",
    "# ki anlamlı bir karşılaştırma yapabilesiniz."
   ]
  },
  {
   "cell_type": "code",
   "execution_count": 15,
   "id": "b084dd8f",
   "metadata": {},
   "outputs": [
    {
     "data": {
      "text/html": [
       "<div>\n",
       "<style scoped>\n",
       "    .dataframe tbody tr th:only-of-type {\n",
       "        vertical-align: middle;\n",
       "    }\n",
       "\n",
       "    .dataframe tbody tr th {\n",
       "        vertical-align: top;\n",
       "    }\n",
       "\n",
       "    .dataframe thead th {\n",
       "        text-align: right;\n",
       "    }\n",
       "</style>\n",
       "<table border=\"1\" class=\"dataframe\">\n",
       "  <thead>\n",
       "    <tr style=\"text-align: right;\">\n",
       "      <th></th>\n",
       "      <th>TV</th>\n",
       "      <th>radio</th>\n",
       "      <th>newspaper</th>\n",
       "      <th>sales</th>\n",
       "    </tr>\n",
       "  </thead>\n",
       "  <tbody>\n",
       "    <tr>\n",
       "      <th>27</th>\n",
       "      <td>240.1</td>\n",
       "      <td>16.7</td>\n",
       "      <td>22.9</td>\n",
       "      <td>15.9</td>\n",
       "    </tr>\n",
       "    <tr>\n",
       "      <th>71</th>\n",
       "      <td>109.8</td>\n",
       "      <td>14.3</td>\n",
       "      <td>31.7</td>\n",
       "      <td>12.4</td>\n",
       "    </tr>\n",
       "    <tr>\n",
       "      <th>194</th>\n",
       "      <td>149.7</td>\n",
       "      <td>35.6</td>\n",
       "      <td>6.0</td>\n",
       "      <td>17.3</td>\n",
       "    </tr>\n",
       "    <tr>\n",
       "      <th>75</th>\n",
       "      <td>16.9</td>\n",
       "      <td>43.7</td>\n",
       "      <td>89.4</td>\n",
       "      <td>8.7</td>\n",
       "    </tr>\n",
       "    <tr>\n",
       "      <th>43</th>\n",
       "      <td>206.9</td>\n",
       "      <td>8.4</td>\n",
       "      <td>26.4</td>\n",
       "      <td>12.9</td>\n",
       "    </tr>\n",
       "    <tr>\n",
       "      <th>72</th>\n",
       "      <td>26.8</td>\n",
       "      <td>33.0</td>\n",
       "      <td>19.3</td>\n",
       "      <td>8.8</td>\n",
       "    </tr>\n",
       "    <tr>\n",
       "      <th>170</th>\n",
       "      <td>50.0</td>\n",
       "      <td>11.6</td>\n",
       "      <td>18.4</td>\n",
       "      <td>8.4</td>\n",
       "    </tr>\n",
       "    <tr>\n",
       "      <th>68</th>\n",
       "      <td>237.4</td>\n",
       "      <td>27.5</td>\n",
       "      <td>11.0</td>\n",
       "      <td>18.9</td>\n",
       "    </tr>\n",
       "    <tr>\n",
       "      <th>151</th>\n",
       "      <td>121.0</td>\n",
       "      <td>8.4</td>\n",
       "      <td>48.7</td>\n",
       "      <td>11.6</td>\n",
       "    </tr>\n",
       "    <tr>\n",
       "      <th>50</th>\n",
       "      <td>199.8</td>\n",
       "      <td>3.1</td>\n",
       "      <td>34.6</td>\n",
       "      <td>11.4</td>\n",
       "    </tr>\n",
       "    <tr>\n",
       "      <th>114</th>\n",
       "      <td>78.2</td>\n",
       "      <td>46.8</td>\n",
       "      <td>34.5</td>\n",
       "      <td>14.6</td>\n",
       "    </tr>\n",
       "    <tr>\n",
       "      <th>92</th>\n",
       "      <td>217.7</td>\n",
       "      <td>33.5</td>\n",
       "      <td>59.0</td>\n",
       "      <td>19.4</td>\n",
       "    </tr>\n",
       "    <tr>\n",
       "      <th>61</th>\n",
       "      <td>261.3</td>\n",
       "      <td>42.7</td>\n",
       "      <td>54.7</td>\n",
       "      <td>24.2</td>\n",
       "    </tr>\n",
       "    <tr>\n",
       "      <th>178</th>\n",
       "      <td>276.7</td>\n",
       "      <td>2.3</td>\n",
       "      <td>23.7</td>\n",
       "      <td>11.8</td>\n",
       "    </tr>\n",
       "    <tr>\n",
       "      <th>120</th>\n",
       "      <td>141.3</td>\n",
       "      <td>26.8</td>\n",
       "      <td>46.2</td>\n",
       "      <td>15.5</td>\n",
       "    </tr>\n",
       "  </tbody>\n",
       "</table>\n",
       "</div>"
      ],
      "text/plain": [
       "        TV  radio  newspaper  sales\n",
       "27   240.1   16.7       22.9   15.9\n",
       "71   109.8   14.3       31.7   12.4\n",
       "194  149.7   35.6        6.0   17.3\n",
       "75    16.9   43.7       89.4    8.7\n",
       "43   206.9    8.4       26.4   12.9\n",
       "72    26.8   33.0       19.3    8.8\n",
       "170   50.0   11.6       18.4    8.4\n",
       "68   237.4   27.5       11.0   18.9\n",
       "151  121.0    8.4       48.7   11.6\n",
       "50   199.8    3.1       34.6   11.4\n",
       "114   78.2   46.8       34.5   14.6\n",
       "92   217.7   33.5       59.0   19.4\n",
       "61   261.3   42.7       54.7   24.2\n",
       "178  276.7    2.3       23.7   11.8\n",
       "120  141.3   26.8       46.2   15.5"
      ]
     },
     "execution_count": 15,
     "metadata": {},
     "output_type": "execute_result"
    }
   ],
   "source": [
    "df.sample(15)"
   ]
  },
  {
   "cell_type": "code",
   "execution_count": 16,
   "id": "03f5a3ca",
   "metadata": {},
   "outputs": [
    {
     "name": "stdout",
     "output_type": "stream",
     "text": [
      "Train features shape : (140, 3)\n",
      "Train features shape : (140,)\n",
      "Train features shape : (60, 3)\n",
      "Train features shape : (60,)\n"
     ]
    }
   ],
   "source": [
    "print(\"Train features shape :\", X_train.shape)\n",
    "print(\"Train features shape :\", y_train.shape)\n",
    "print(\"Train features shape :\", X_test.shape)\n",
    "print(\"Train features shape :\", y_test.shape)"
   ]
  },
  {
   "cell_type": "code",
   "execution_count": 17,
   "id": "95bddbc6",
   "metadata": {},
   "outputs": [
    {
     "data": {
      "text/html": [
       "<div>\n",
       "<style scoped>\n",
       "    .dataframe tbody tr th:only-of-type {\n",
       "        vertical-align: middle;\n",
       "    }\n",
       "\n",
       "    .dataframe tbody tr th {\n",
       "        vertical-align: top;\n",
       "    }\n",
       "\n",
       "    .dataframe thead th {\n",
       "        text-align: right;\n",
       "    }\n",
       "</style>\n",
       "<table border=\"1\" class=\"dataframe\">\n",
       "  <thead>\n",
       "    <tr style=\"text-align: right;\">\n",
       "      <th></th>\n",
       "      <th>TV</th>\n",
       "      <th>radio</th>\n",
       "      <th>newspaper</th>\n",
       "    </tr>\n",
       "  </thead>\n",
       "  <tbody>\n",
       "    <tr>\n",
       "      <th>169</th>\n",
       "      <td>284.3</td>\n",
       "      <td>10.6</td>\n",
       "      <td>6.4</td>\n",
       "    </tr>\n",
       "    <tr>\n",
       "      <th>97</th>\n",
       "      <td>184.9</td>\n",
       "      <td>21.0</td>\n",
       "      <td>22.0</td>\n",
       "    </tr>\n",
       "    <tr>\n",
       "      <th>31</th>\n",
       "      <td>112.9</td>\n",
       "      <td>17.4</td>\n",
       "      <td>38.6</td>\n",
       "    </tr>\n",
       "    <tr>\n",
       "      <th>12</th>\n",
       "      <td>23.8</td>\n",
       "      <td>35.1</td>\n",
       "      <td>65.9</td>\n",
       "    </tr>\n",
       "    <tr>\n",
       "      <th>35</th>\n",
       "      <td>290.7</td>\n",
       "      <td>4.1</td>\n",
       "      <td>8.5</td>\n",
       "    </tr>\n",
       "    <tr>\n",
       "      <th>...</th>\n",
       "      <td>...</td>\n",
       "      <td>...</td>\n",
       "      <td>...</td>\n",
       "    </tr>\n",
       "    <tr>\n",
       "      <th>106</th>\n",
       "      <td>25.0</td>\n",
       "      <td>11.0</td>\n",
       "      <td>29.7</td>\n",
       "    </tr>\n",
       "    <tr>\n",
       "      <th>14</th>\n",
       "      <td>204.1</td>\n",
       "      <td>32.9</td>\n",
       "      <td>46.0</td>\n",
       "    </tr>\n",
       "    <tr>\n",
       "      <th>92</th>\n",
       "      <td>217.7</td>\n",
       "      <td>33.5</td>\n",
       "      <td>59.0</td>\n",
       "    </tr>\n",
       "    <tr>\n",
       "      <th>179</th>\n",
       "      <td>165.6</td>\n",
       "      <td>10.0</td>\n",
       "      <td>17.6</td>\n",
       "    </tr>\n",
       "    <tr>\n",
       "      <th>102</th>\n",
       "      <td>280.2</td>\n",
       "      <td>10.1</td>\n",
       "      <td>21.4</td>\n",
       "    </tr>\n",
       "  </tbody>\n",
       "</table>\n",
       "<p>140 rows × 3 columns</p>\n",
       "</div>"
      ],
      "text/plain": [
       "        TV  radio  newspaper\n",
       "169  284.3   10.6        6.4\n",
       "97   184.9   21.0       22.0\n",
       "31   112.9   17.4       38.6\n",
       "12    23.8   35.1       65.9\n",
       "35   290.7    4.1        8.5\n",
       "..     ...    ...        ...\n",
       "106   25.0   11.0       29.7\n",
       "14   204.1   32.9       46.0\n",
       "92   217.7   33.5       59.0\n",
       "179  165.6   10.0       17.6\n",
       "102  280.2   10.1       21.4\n",
       "\n",
       "[140 rows x 3 columns]"
      ]
     },
     "execution_count": 17,
     "metadata": {},
     "output_type": "execute_result"
    }
   ],
   "source": [
    "X_train"
   ]
  },
  {
   "cell_type": "code",
   "execution_count": 18,
   "id": "b66ca451",
   "metadata": {},
   "outputs": [
    {
     "data": {
      "text/html": [
       "<div>\n",
       "<style scoped>\n",
       "    .dataframe tbody tr th:only-of-type {\n",
       "        vertical-align: middle;\n",
       "    }\n",
       "\n",
       "    .dataframe tbody tr th {\n",
       "        vertical-align: top;\n",
       "    }\n",
       "\n",
       "    .dataframe thead th {\n",
       "        text-align: right;\n",
       "    }\n",
       "</style>\n",
       "<table border=\"1\" class=\"dataframe\">\n",
       "  <thead>\n",
       "    <tr style=\"text-align: right;\">\n",
       "      <th></th>\n",
       "      <th>TV</th>\n",
       "      <th>radio</th>\n",
       "      <th>newspaper</th>\n",
       "    </tr>\n",
       "  </thead>\n",
       "  <tbody>\n",
       "    <tr>\n",
       "      <th>95</th>\n",
       "      <td>163.3</td>\n",
       "      <td>31.6</td>\n",
       "      <td>52.9</td>\n",
       "    </tr>\n",
       "    <tr>\n",
       "      <th>15</th>\n",
       "      <td>195.4</td>\n",
       "      <td>47.7</td>\n",
       "      <td>52.9</td>\n",
       "    </tr>\n",
       "    <tr>\n",
       "      <th>30</th>\n",
       "      <td>292.9</td>\n",
       "      <td>28.3</td>\n",
       "      <td>43.2</td>\n",
       "    </tr>\n",
       "    <tr>\n",
       "      <th>158</th>\n",
       "      <td>11.7</td>\n",
       "      <td>36.9</td>\n",
       "      <td>45.2</td>\n",
       "    </tr>\n",
       "    <tr>\n",
       "      <th>128</th>\n",
       "      <td>220.3</td>\n",
       "      <td>49.0</td>\n",
       "      <td>3.2</td>\n",
       "    </tr>\n",
       "    <tr>\n",
       "      <th>115</th>\n",
       "      <td>75.1</td>\n",
       "      <td>35.0</td>\n",
       "      <td>52.7</td>\n",
       "    </tr>\n",
       "    <tr>\n",
       "      <th>69</th>\n",
       "      <td>216.8</td>\n",
       "      <td>43.9</td>\n",
       "      <td>27.2</td>\n",
       "    </tr>\n",
       "    <tr>\n",
       "      <th>170</th>\n",
       "      <td>50.0</td>\n",
       "      <td>11.6</td>\n",
       "      <td>18.4</td>\n",
       "    </tr>\n",
       "    <tr>\n",
       "      <th>174</th>\n",
       "      <td>222.4</td>\n",
       "      <td>3.4</td>\n",
       "      <td>13.1</td>\n",
       "    </tr>\n",
       "    <tr>\n",
       "      <th>45</th>\n",
       "      <td>175.1</td>\n",
       "      <td>22.5</td>\n",
       "      <td>31.5</td>\n",
       "    </tr>\n",
       "    <tr>\n",
       "      <th>66</th>\n",
       "      <td>31.5</td>\n",
       "      <td>24.6</td>\n",
       "      <td>2.2</td>\n",
       "    </tr>\n",
       "    <tr>\n",
       "      <th>182</th>\n",
       "      <td>56.2</td>\n",
       "      <td>5.7</td>\n",
       "      <td>29.7</td>\n",
       "    </tr>\n",
       "    <tr>\n",
       "      <th>165</th>\n",
       "      <td>234.5</td>\n",
       "      <td>3.4</td>\n",
       "      <td>84.8</td>\n",
       "    </tr>\n",
       "    <tr>\n",
       "      <th>78</th>\n",
       "      <td>5.4</td>\n",
       "      <td>29.9</td>\n",
       "      <td>9.4</td>\n",
       "    </tr>\n",
       "    <tr>\n",
       "      <th>186</th>\n",
       "      <td>139.5</td>\n",
       "      <td>2.1</td>\n",
       "      <td>26.6</td>\n",
       "    </tr>\n",
       "    <tr>\n",
       "      <th>177</th>\n",
       "      <td>170.2</td>\n",
       "      <td>7.8</td>\n",
       "      <td>35.2</td>\n",
       "    </tr>\n",
       "    <tr>\n",
       "      <th>56</th>\n",
       "      <td>7.3</td>\n",
       "      <td>28.1</td>\n",
       "      <td>41.4</td>\n",
       "    </tr>\n",
       "    <tr>\n",
       "      <th>152</th>\n",
       "      <td>197.6</td>\n",
       "      <td>23.3</td>\n",
       "      <td>14.2</td>\n",
       "    </tr>\n",
       "    <tr>\n",
       "      <th>82</th>\n",
       "      <td>75.3</td>\n",
       "      <td>20.3</td>\n",
       "      <td>32.5</td>\n",
       "    </tr>\n",
       "    <tr>\n",
       "      <th>68</th>\n",
       "      <td>237.4</td>\n",
       "      <td>27.5</td>\n",
       "      <td>11.0</td>\n",
       "    </tr>\n",
       "    <tr>\n",
       "      <th>124</th>\n",
       "      <td>229.5</td>\n",
       "      <td>32.3</td>\n",
       "      <td>74.2</td>\n",
       "    </tr>\n",
       "    <tr>\n",
       "      <th>16</th>\n",
       "      <td>67.8</td>\n",
       "      <td>36.6</td>\n",
       "      <td>114.0</td>\n",
       "    </tr>\n",
       "    <tr>\n",
       "      <th>148</th>\n",
       "      <td>38.0</td>\n",
       "      <td>40.3</td>\n",
       "      <td>11.9</td>\n",
       "    </tr>\n",
       "    <tr>\n",
       "      <th>93</th>\n",
       "      <td>250.9</td>\n",
       "      <td>36.5</td>\n",
       "      <td>72.3</td>\n",
       "    </tr>\n",
       "    <tr>\n",
       "      <th>65</th>\n",
       "      <td>69.0</td>\n",
       "      <td>9.3</td>\n",
       "      <td>0.9</td>\n",
       "    </tr>\n",
       "    <tr>\n",
       "      <th>60</th>\n",
       "      <td>53.5</td>\n",
       "      <td>2.0</td>\n",
       "      <td>21.4</td>\n",
       "    </tr>\n",
       "    <tr>\n",
       "      <th>84</th>\n",
       "      <td>213.5</td>\n",
       "      <td>43.0</td>\n",
       "      <td>33.8</td>\n",
       "    </tr>\n",
       "    <tr>\n",
       "      <th>67</th>\n",
       "      <td>139.3</td>\n",
       "      <td>14.5</td>\n",
       "      <td>10.2</td>\n",
       "    </tr>\n",
       "    <tr>\n",
       "      <th>125</th>\n",
       "      <td>87.2</td>\n",
       "      <td>11.8</td>\n",
       "      <td>25.9</td>\n",
       "    </tr>\n",
       "    <tr>\n",
       "      <th>132</th>\n",
       "      <td>8.4</td>\n",
       "      <td>27.2</td>\n",
       "      <td>2.1</td>\n",
       "    </tr>\n",
       "    <tr>\n",
       "      <th>9</th>\n",
       "      <td>199.8</td>\n",
       "      <td>2.6</td>\n",
       "      <td>21.2</td>\n",
       "    </tr>\n",
       "    <tr>\n",
       "      <th>18</th>\n",
       "      <td>69.2</td>\n",
       "      <td>20.5</td>\n",
       "      <td>18.3</td>\n",
       "    </tr>\n",
       "    <tr>\n",
       "      <th>55</th>\n",
       "      <td>198.9</td>\n",
       "      <td>49.4</td>\n",
       "      <td>60.0</td>\n",
       "    </tr>\n",
       "    <tr>\n",
       "      <th>75</th>\n",
       "      <td>16.9</td>\n",
       "      <td>43.7</td>\n",
       "      <td>89.4</td>\n",
       "    </tr>\n",
       "    <tr>\n",
       "      <th>150</th>\n",
       "      <td>280.7</td>\n",
       "      <td>13.9</td>\n",
       "      <td>37.0</td>\n",
       "    </tr>\n",
       "    <tr>\n",
       "      <th>104</th>\n",
       "      <td>238.2</td>\n",
       "      <td>34.3</td>\n",
       "      <td>5.3</td>\n",
       "    </tr>\n",
       "    <tr>\n",
       "      <th>135</th>\n",
       "      <td>48.3</td>\n",
       "      <td>47.0</td>\n",
       "      <td>8.5</td>\n",
       "    </tr>\n",
       "    <tr>\n",
       "      <th>137</th>\n",
       "      <td>273.7</td>\n",
       "      <td>28.9</td>\n",
       "      <td>59.7</td>\n",
       "    </tr>\n",
       "    <tr>\n",
       "      <th>164</th>\n",
       "      <td>117.2</td>\n",
       "      <td>14.7</td>\n",
       "      <td>5.4</td>\n",
       "    </tr>\n",
       "    <tr>\n",
       "      <th>76</th>\n",
       "      <td>27.5</td>\n",
       "      <td>1.6</td>\n",
       "      <td>20.7</td>\n",
       "    </tr>\n",
       "    <tr>\n",
       "      <th>79</th>\n",
       "      <td>116.0</td>\n",
       "      <td>7.7</td>\n",
       "      <td>23.1</td>\n",
       "    </tr>\n",
       "    <tr>\n",
       "      <th>197</th>\n",
       "      <td>177.0</td>\n",
       "      <td>9.3</td>\n",
       "      <td>6.4</td>\n",
       "    </tr>\n",
       "    <tr>\n",
       "      <th>38</th>\n",
       "      <td>43.1</td>\n",
       "      <td>26.7</td>\n",
       "      <td>35.1</td>\n",
       "    </tr>\n",
       "    <tr>\n",
       "      <th>24</th>\n",
       "      <td>62.3</td>\n",
       "      <td>12.6</td>\n",
       "      <td>18.3</td>\n",
       "    </tr>\n",
       "    <tr>\n",
       "      <th>122</th>\n",
       "      <td>224.0</td>\n",
       "      <td>2.4</td>\n",
       "      <td>15.6</td>\n",
       "    </tr>\n",
       "    <tr>\n",
       "      <th>195</th>\n",
       "      <td>38.2</td>\n",
       "      <td>3.7</td>\n",
       "      <td>13.8</td>\n",
       "    </tr>\n",
       "    <tr>\n",
       "      <th>29</th>\n",
       "      <td>70.6</td>\n",
       "      <td>16.0</td>\n",
       "      <td>40.8</td>\n",
       "    </tr>\n",
       "    <tr>\n",
       "      <th>19</th>\n",
       "      <td>147.3</td>\n",
       "      <td>23.9</td>\n",
       "      <td>19.1</td>\n",
       "    </tr>\n",
       "    <tr>\n",
       "      <th>143</th>\n",
       "      <td>104.6</td>\n",
       "      <td>5.7</td>\n",
       "      <td>34.4</td>\n",
       "    </tr>\n",
       "    <tr>\n",
       "      <th>86</th>\n",
       "      <td>76.3</td>\n",
       "      <td>27.5</td>\n",
       "      <td>16.0</td>\n",
       "    </tr>\n",
       "    <tr>\n",
       "      <th>114</th>\n",
       "      <td>78.2</td>\n",
       "      <td>46.8</td>\n",
       "      <td>34.5</td>\n",
       "    </tr>\n",
       "    <tr>\n",
       "      <th>173</th>\n",
       "      <td>168.4</td>\n",
       "      <td>7.1</td>\n",
       "      <td>12.8</td>\n",
       "    </tr>\n",
       "    <tr>\n",
       "      <th>5</th>\n",
       "      <td>8.7</td>\n",
       "      <td>48.9</td>\n",
       "      <td>75.0</td>\n",
       "    </tr>\n",
       "    <tr>\n",
       "      <th>126</th>\n",
       "      <td>7.8</td>\n",
       "      <td>38.9</td>\n",
       "      <td>50.6</td>\n",
       "    </tr>\n",
       "    <tr>\n",
       "      <th>117</th>\n",
       "      <td>76.4</td>\n",
       "      <td>0.8</td>\n",
       "      <td>14.8</td>\n",
       "    </tr>\n",
       "    <tr>\n",
       "      <th>73</th>\n",
       "      <td>129.4</td>\n",
       "      <td>5.7</td>\n",
       "      <td>31.3</td>\n",
       "    </tr>\n",
       "    <tr>\n",
       "      <th>140</th>\n",
       "      <td>73.4</td>\n",
       "      <td>17.0</td>\n",
       "      <td>12.9</td>\n",
       "    </tr>\n",
       "    <tr>\n",
       "      <th>98</th>\n",
       "      <td>289.7</td>\n",
       "      <td>42.3</td>\n",
       "      <td>51.2</td>\n",
       "    </tr>\n",
       "    <tr>\n",
       "      <th>172</th>\n",
       "      <td>19.6</td>\n",
       "      <td>20.1</td>\n",
       "      <td>17.0</td>\n",
       "    </tr>\n",
       "    <tr>\n",
       "      <th>96</th>\n",
       "      <td>197.6</td>\n",
       "      <td>3.5</td>\n",
       "      <td>5.9</td>\n",
       "    </tr>\n",
       "  </tbody>\n",
       "</table>\n",
       "</div>"
      ],
      "text/plain": [
       "        TV  radio  newspaper\n",
       "95   163.3   31.6       52.9\n",
       "15   195.4   47.7       52.9\n",
       "30   292.9   28.3       43.2\n",
       "158   11.7   36.9       45.2\n",
       "128  220.3   49.0        3.2\n",
       "115   75.1   35.0       52.7\n",
       "69   216.8   43.9       27.2\n",
       "170   50.0   11.6       18.4\n",
       "174  222.4    3.4       13.1\n",
       "45   175.1   22.5       31.5\n",
       "66    31.5   24.6        2.2\n",
       "182   56.2    5.7       29.7\n",
       "165  234.5    3.4       84.8\n",
       "78     5.4   29.9        9.4\n",
       "186  139.5    2.1       26.6\n",
       "177  170.2    7.8       35.2\n",
       "56     7.3   28.1       41.4\n",
       "152  197.6   23.3       14.2\n",
       "82    75.3   20.3       32.5\n",
       "68   237.4   27.5       11.0\n",
       "124  229.5   32.3       74.2\n",
       "16    67.8   36.6      114.0\n",
       "148   38.0   40.3       11.9\n",
       "93   250.9   36.5       72.3\n",
       "65    69.0    9.3        0.9\n",
       "60    53.5    2.0       21.4\n",
       "84   213.5   43.0       33.8\n",
       "67   139.3   14.5       10.2\n",
       "125   87.2   11.8       25.9\n",
       "132    8.4   27.2        2.1\n",
       "9    199.8    2.6       21.2\n",
       "18    69.2   20.5       18.3\n",
       "55   198.9   49.4       60.0\n",
       "75    16.9   43.7       89.4\n",
       "150  280.7   13.9       37.0\n",
       "104  238.2   34.3        5.3\n",
       "135   48.3   47.0        8.5\n",
       "137  273.7   28.9       59.7\n",
       "164  117.2   14.7        5.4\n",
       "76    27.5    1.6       20.7\n",
       "79   116.0    7.7       23.1\n",
       "197  177.0    9.3        6.4\n",
       "38    43.1   26.7       35.1\n",
       "24    62.3   12.6       18.3\n",
       "122  224.0    2.4       15.6\n",
       "195   38.2    3.7       13.8\n",
       "29    70.6   16.0       40.8\n",
       "19   147.3   23.9       19.1\n",
       "143  104.6    5.7       34.4\n",
       "86    76.3   27.5       16.0\n",
       "114   78.2   46.8       34.5\n",
       "173  168.4    7.1       12.8\n",
       "5      8.7   48.9       75.0\n",
       "126    7.8   38.9       50.6\n",
       "117   76.4    0.8       14.8\n",
       "73   129.4    5.7       31.3\n",
       "140   73.4   17.0       12.9\n",
       "98   289.7   42.3       51.2\n",
       "172   19.6   20.1       17.0\n",
       "96   197.6    3.5        5.9"
      ]
     },
     "execution_count": 18,
     "metadata": {},
     "output_type": "execute_result"
    }
   ],
   "source": [
    "X_test"
   ]
  },
  {
   "cell_type": "code",
   "execution_count": 19,
   "id": "43fc4060",
   "metadata": {},
   "outputs": [
    {
     "data": {
      "text/plain": [
       "169    15.0\n",
       "97     15.5\n",
       "31     11.9\n",
       "12      9.2\n",
       "35     12.8\n",
       "       ... \n",
       "106     7.2\n",
       "14     19.0\n",
       "92     19.4\n",
       "179    12.6\n",
       "102    14.8\n",
       "Name: sales, Length: 140, dtype: float64"
      ]
     },
     "execution_count": 19,
     "metadata": {},
     "output_type": "execute_result"
    }
   ],
   "source": [
    "y_train"
   ]
  },
  {
   "cell_type": "code",
   "execution_count": 20,
   "id": "f989ba5e",
   "metadata": {},
   "outputs": [
    {
     "data": {
      "text/plain": [
       "95     16.9\n",
       "15     22.4\n",
       "30     21.4\n",
       "158     7.3\n",
       "128    24.7\n",
       "115    12.6\n",
       "69     22.3\n",
       "170     8.4\n",
       "174    11.5\n",
       "45     14.9\n",
       "66      9.5\n",
       "182     8.7\n",
       "165    11.9\n",
       "78      5.3\n",
       "186    10.3\n",
       "177    11.7\n",
       "56      5.5\n",
       "152    16.6\n",
       "82     11.3\n",
       "68     18.9\n",
       "124    19.7\n",
       "16     12.5\n",
       "148    10.9\n",
       "93     22.2\n",
       "65      9.3\n",
       "60      8.1\n",
       "84     21.7\n",
       "67     13.4\n",
       "125    10.6\n",
       "132     5.7\n",
       "9      10.6\n",
       "18     11.3\n",
       "55     23.7\n",
       "75      8.7\n",
       "150    16.1\n",
       "104    20.7\n",
       "135    11.6\n",
       "137    20.8\n",
       "164    11.9\n",
       "76      6.9\n",
       "79     11.0\n",
       "197    12.8\n",
       "38     10.1\n",
       "24      9.7\n",
       "122    11.6\n",
       "195     7.6\n",
       "29     10.5\n",
       "19     14.6\n",
       "143    10.4\n",
       "86     12.0\n",
       "114    14.6\n",
       "173    11.7\n",
       "5       7.2\n",
       "126     6.6\n",
       "117     9.4\n",
       "73     11.0\n",
       "140    10.9\n",
       "98     25.4\n",
       "172     7.6\n",
       "96     11.7\n",
       "Name: sales, dtype: float64"
      ]
     },
     "execution_count": 20,
     "metadata": {},
     "output_type": "execute_result"
    }
   ],
   "source": [
    "y_test"
   ]
  },
  {
   "cell_type": "markdown",
   "id": "87f4703a",
   "metadata": {},
   "source": [
    "## Model Fitting and Compare Actual and Predicted Labels"
   ]
  },
  {
   "cell_type": "code",
   "execution_count": 21,
   "id": "a2d7e20a",
   "metadata": {},
   "outputs": [],
   "source": [
    "from sklearn.linear_model import LinearRegression"
   ]
  },
  {
   "cell_type": "code",
   "execution_count": 22,
   "id": "05bfa826",
   "metadata": {},
   "outputs": [],
   "source": [
    "model = LinearRegression()"
   ]
  },
  {
   "cell_type": "code",
   "execution_count": 23,
   "id": "f5432eeb",
   "metadata": {},
   "outputs": [
    {
     "data": {
      "text/plain": [
       "LinearRegression()"
      ]
     },
     "execution_count": 23,
     "metadata": {},
     "output_type": "execute_result"
    }
   ],
   "source": [
    "model.fit(X_train, y_train)  # modeli eğittik. artık değerlendirme aşamasına geçiyoruz"
   ]
  },
  {
   "cell_type": "code",
   "execution_count": 24,
   "id": "5ccb2a79",
   "metadata": {},
   "outputs": [
    {
     "data": {
      "text/plain": [
       "array([16.5653963 , 21.18822792, 21.55107058, 10.88923816, 22.20231988,\n",
       "       13.35556872, 21.19692502,  7.35028523, 13.27547079, 15.12449511,\n",
       "        9.01443026,  6.52542825, 14.30205991,  8.97026042,  9.45679576,\n",
       "       12.00454351,  8.91549403, 16.15619251, 10.29582883, 18.72473553,\n",
       "       19.76821818, 13.77469028, 12.49638908, 21.53501762,  7.60860741,\n",
       "        5.6119801 , 20.91759483, 11.80627665,  9.08076637,  8.51412012,\n",
       "       12.17604891,  9.9691939 , 21.73008956, 12.77770578, 18.1011362 ,\n",
       "       20.07590796, 14.26202556, 20.93826535, 10.83938827,  4.38190607,\n",
       "        9.51332406, 12.40486324, 10.17045434,  8.09081363, 13.16388427,\n",
       "        5.2243552 ,  9.28893833, 14.09330719,  8.69024497, 11.66119763,\n",
       "       15.71848432, 11.63156862, 13.35360735, 11.1531472 ,  6.33636845,\n",
       "        9.76157954,  9.4195714 , 24.25516546,  7.69519137, 12.15317572])"
      ]
     },
     "execution_count": 24,
     "metadata": {},
     "output_type": "execute_result"
    }
   ],
   "source": [
    "y_pred = model.predict(X_test)\n",
    "\n",
    "y_pred"
   ]
  },
  {
   "cell_type": "code",
   "execution_count": 25,
   "id": "f3942132",
   "metadata": {},
   "outputs": [],
   "source": [
    "my_dict = {\"Actual\": y_test, \"pred\": y_pred, \"residual\": y_test - y_pred}"
   ]
  },
  {
   "cell_type": "code",
   "execution_count": 26,
   "id": "06f68002",
   "metadata": {},
   "outputs": [
    {
     "data": {
      "text/html": [
       "<div>\n",
       "<style scoped>\n",
       "    .dataframe tbody tr th:only-of-type {\n",
       "        vertical-align: middle;\n",
       "    }\n",
       "\n",
       "    .dataframe tbody tr th {\n",
       "        vertical-align: top;\n",
       "    }\n",
       "\n",
       "    .dataframe thead th {\n",
       "        text-align: right;\n",
       "    }\n",
       "</style>\n",
       "<table border=\"1\" class=\"dataframe\">\n",
       "  <thead>\n",
       "    <tr style=\"text-align: right;\">\n",
       "      <th></th>\n",
       "      <th>Actual</th>\n",
       "      <th>pred</th>\n",
       "      <th>residual</th>\n",
       "    </tr>\n",
       "  </thead>\n",
       "  <tbody>\n",
       "    <tr>\n",
       "      <th>95</th>\n",
       "      <td>16.9</td>\n",
       "      <td>16.565396</td>\n",
       "      <td>0.334604</td>\n",
       "    </tr>\n",
       "    <tr>\n",
       "      <th>15</th>\n",
       "      <td>22.4</td>\n",
       "      <td>21.188228</td>\n",
       "      <td>1.211772</td>\n",
       "    </tr>\n",
       "    <tr>\n",
       "      <th>30</th>\n",
       "      <td>21.4</td>\n",
       "      <td>21.551071</td>\n",
       "      <td>-0.151071</td>\n",
       "    </tr>\n",
       "    <tr>\n",
       "      <th>158</th>\n",
       "      <td>7.3</td>\n",
       "      <td>10.889238</td>\n",
       "      <td>-3.589238</td>\n",
       "    </tr>\n",
       "    <tr>\n",
       "      <th>128</th>\n",
       "      <td>24.7</td>\n",
       "      <td>22.202320</td>\n",
       "      <td>2.497680</td>\n",
       "    </tr>\n",
       "    <tr>\n",
       "      <th>115</th>\n",
       "      <td>12.6</td>\n",
       "      <td>13.355569</td>\n",
       "      <td>-0.755569</td>\n",
       "    </tr>\n",
       "    <tr>\n",
       "      <th>69</th>\n",
       "      <td>22.3</td>\n",
       "      <td>21.196925</td>\n",
       "      <td>1.103075</td>\n",
       "    </tr>\n",
       "    <tr>\n",
       "      <th>170</th>\n",
       "      <td>8.4</td>\n",
       "      <td>7.350285</td>\n",
       "      <td>1.049715</td>\n",
       "    </tr>\n",
       "    <tr>\n",
       "      <th>174</th>\n",
       "      <td>11.5</td>\n",
       "      <td>13.275471</td>\n",
       "      <td>-1.775471</td>\n",
       "    </tr>\n",
       "    <tr>\n",
       "      <th>45</th>\n",
       "      <td>14.9</td>\n",
       "      <td>15.124495</td>\n",
       "      <td>-0.224495</td>\n",
       "    </tr>\n",
       "    <tr>\n",
       "      <th>66</th>\n",
       "      <td>9.5</td>\n",
       "      <td>9.014430</td>\n",
       "      <td>0.485570</td>\n",
       "    </tr>\n",
       "    <tr>\n",
       "      <th>182</th>\n",
       "      <td>8.7</td>\n",
       "      <td>6.525428</td>\n",
       "      <td>2.174572</td>\n",
       "    </tr>\n",
       "    <tr>\n",
       "      <th>165</th>\n",
       "      <td>11.9</td>\n",
       "      <td>14.302060</td>\n",
       "      <td>-2.402060</td>\n",
       "    </tr>\n",
       "    <tr>\n",
       "      <th>78</th>\n",
       "      <td>5.3</td>\n",
       "      <td>8.970260</td>\n",
       "      <td>-3.670260</td>\n",
       "    </tr>\n",
       "    <tr>\n",
       "      <th>186</th>\n",
       "      <td>10.3</td>\n",
       "      <td>9.456796</td>\n",
       "      <td>0.843204</td>\n",
       "    </tr>\n",
       "    <tr>\n",
       "      <th>177</th>\n",
       "      <td>11.7</td>\n",
       "      <td>12.004544</td>\n",
       "      <td>-0.304544</td>\n",
       "    </tr>\n",
       "    <tr>\n",
       "      <th>56</th>\n",
       "      <td>5.5</td>\n",
       "      <td>8.915494</td>\n",
       "      <td>-3.415494</td>\n",
       "    </tr>\n",
       "    <tr>\n",
       "      <th>152</th>\n",
       "      <td>16.6</td>\n",
       "      <td>16.156193</td>\n",
       "      <td>0.443807</td>\n",
       "    </tr>\n",
       "    <tr>\n",
       "      <th>82</th>\n",
       "      <td>11.3</td>\n",
       "      <td>10.295829</td>\n",
       "      <td>1.004171</td>\n",
       "    </tr>\n",
       "    <tr>\n",
       "      <th>68</th>\n",
       "      <td>18.9</td>\n",
       "      <td>18.724736</td>\n",
       "      <td>0.175264</td>\n",
       "    </tr>\n",
       "    <tr>\n",
       "      <th>124</th>\n",
       "      <td>19.7</td>\n",
       "      <td>19.768218</td>\n",
       "      <td>-0.068218</td>\n",
       "    </tr>\n",
       "    <tr>\n",
       "      <th>16</th>\n",
       "      <td>12.5</td>\n",
       "      <td>13.774690</td>\n",
       "      <td>-1.274690</td>\n",
       "    </tr>\n",
       "    <tr>\n",
       "      <th>148</th>\n",
       "      <td>10.9</td>\n",
       "      <td>12.496389</td>\n",
       "      <td>-1.596389</td>\n",
       "    </tr>\n",
       "    <tr>\n",
       "      <th>93</th>\n",
       "      <td>22.2</td>\n",
       "      <td>21.535018</td>\n",
       "      <td>0.664982</td>\n",
       "    </tr>\n",
       "    <tr>\n",
       "      <th>65</th>\n",
       "      <td>9.3</td>\n",
       "      <td>7.608607</td>\n",
       "      <td>1.691393</td>\n",
       "    </tr>\n",
       "    <tr>\n",
       "      <th>60</th>\n",
       "      <td>8.1</td>\n",
       "      <td>5.611980</td>\n",
       "      <td>2.488020</td>\n",
       "    </tr>\n",
       "    <tr>\n",
       "      <th>84</th>\n",
       "      <td>21.7</td>\n",
       "      <td>20.917595</td>\n",
       "      <td>0.782405</td>\n",
       "    </tr>\n",
       "    <tr>\n",
       "      <th>67</th>\n",
       "      <td>13.4</td>\n",
       "      <td>11.806277</td>\n",
       "      <td>1.593723</td>\n",
       "    </tr>\n",
       "    <tr>\n",
       "      <th>125</th>\n",
       "      <td>10.6</td>\n",
       "      <td>9.080766</td>\n",
       "      <td>1.519234</td>\n",
       "    </tr>\n",
       "    <tr>\n",
       "      <th>132</th>\n",
       "      <td>5.7</td>\n",
       "      <td>8.514120</td>\n",
       "      <td>-2.814120</td>\n",
       "    </tr>\n",
       "    <tr>\n",
       "      <th>9</th>\n",
       "      <td>10.6</td>\n",
       "      <td>12.176049</td>\n",
       "      <td>-1.576049</td>\n",
       "    </tr>\n",
       "    <tr>\n",
       "      <th>18</th>\n",
       "      <td>11.3</td>\n",
       "      <td>9.969194</td>\n",
       "      <td>1.330806</td>\n",
       "    </tr>\n",
       "    <tr>\n",
       "      <th>55</th>\n",
       "      <td>23.7</td>\n",
       "      <td>21.730090</td>\n",
       "      <td>1.969910</td>\n",
       "    </tr>\n",
       "    <tr>\n",
       "      <th>75</th>\n",
       "      <td>8.7</td>\n",
       "      <td>12.777706</td>\n",
       "      <td>-4.077706</td>\n",
       "    </tr>\n",
       "    <tr>\n",
       "      <th>150</th>\n",
       "      <td>16.1</td>\n",
       "      <td>18.101136</td>\n",
       "      <td>-2.001136</td>\n",
       "    </tr>\n",
       "    <tr>\n",
       "      <th>104</th>\n",
       "      <td>20.7</td>\n",
       "      <td>20.075908</td>\n",
       "      <td>0.624092</td>\n",
       "    </tr>\n",
       "    <tr>\n",
       "      <th>135</th>\n",
       "      <td>11.6</td>\n",
       "      <td>14.262026</td>\n",
       "      <td>-2.662026</td>\n",
       "    </tr>\n",
       "    <tr>\n",
       "      <th>137</th>\n",
       "      <td>20.8</td>\n",
       "      <td>20.938265</td>\n",
       "      <td>-0.138265</td>\n",
       "    </tr>\n",
       "    <tr>\n",
       "      <th>164</th>\n",
       "      <td>11.9</td>\n",
       "      <td>10.839388</td>\n",
       "      <td>1.060612</td>\n",
       "    </tr>\n",
       "    <tr>\n",
       "      <th>76</th>\n",
       "      <td>6.9</td>\n",
       "      <td>4.381906</td>\n",
       "      <td>2.518094</td>\n",
       "    </tr>\n",
       "    <tr>\n",
       "      <th>79</th>\n",
       "      <td>11.0</td>\n",
       "      <td>9.513324</td>\n",
       "      <td>1.486676</td>\n",
       "    </tr>\n",
       "    <tr>\n",
       "      <th>197</th>\n",
       "      <td>12.8</td>\n",
       "      <td>12.404863</td>\n",
       "      <td>0.395137</td>\n",
       "    </tr>\n",
       "    <tr>\n",
       "      <th>38</th>\n",
       "      <td>10.1</td>\n",
       "      <td>10.170454</td>\n",
       "      <td>-0.070454</td>\n",
       "    </tr>\n",
       "    <tr>\n",
       "      <th>24</th>\n",
       "      <td>9.7</td>\n",
       "      <td>8.090814</td>\n",
       "      <td>1.609186</td>\n",
       "    </tr>\n",
       "    <tr>\n",
       "      <th>122</th>\n",
       "      <td>11.6</td>\n",
       "      <td>13.163884</td>\n",
       "      <td>-1.563884</td>\n",
       "    </tr>\n",
       "    <tr>\n",
       "      <th>195</th>\n",
       "      <td>7.6</td>\n",
       "      <td>5.224355</td>\n",
       "      <td>2.375645</td>\n",
       "    </tr>\n",
       "    <tr>\n",
       "      <th>29</th>\n",
       "      <td>10.5</td>\n",
       "      <td>9.288938</td>\n",
       "      <td>1.211062</td>\n",
       "    </tr>\n",
       "    <tr>\n",
       "      <th>19</th>\n",
       "      <td>14.6</td>\n",
       "      <td>14.093307</td>\n",
       "      <td>0.506693</td>\n",
       "    </tr>\n",
       "    <tr>\n",
       "      <th>143</th>\n",
       "      <td>10.4</td>\n",
       "      <td>8.690245</td>\n",
       "      <td>1.709755</td>\n",
       "    </tr>\n",
       "    <tr>\n",
       "      <th>86</th>\n",
       "      <td>12.0</td>\n",
       "      <td>11.661198</td>\n",
       "      <td>0.338802</td>\n",
       "    </tr>\n",
       "    <tr>\n",
       "      <th>114</th>\n",
       "      <td>14.6</td>\n",
       "      <td>15.718484</td>\n",
       "      <td>-1.118484</td>\n",
       "    </tr>\n",
       "    <tr>\n",
       "      <th>173</th>\n",
       "      <td>11.7</td>\n",
       "      <td>11.631569</td>\n",
       "      <td>0.068431</td>\n",
       "    </tr>\n",
       "    <tr>\n",
       "      <th>5</th>\n",
       "      <td>7.2</td>\n",
       "      <td>13.353607</td>\n",
       "      <td>-6.153607</td>\n",
       "    </tr>\n",
       "    <tr>\n",
       "      <th>126</th>\n",
       "      <td>6.6</td>\n",
       "      <td>11.153147</td>\n",
       "      <td>-4.553147</td>\n",
       "    </tr>\n",
       "    <tr>\n",
       "      <th>117</th>\n",
       "      <td>9.4</td>\n",
       "      <td>6.336368</td>\n",
       "      <td>3.063632</td>\n",
       "    </tr>\n",
       "    <tr>\n",
       "      <th>73</th>\n",
       "      <td>11.0</td>\n",
       "      <td>9.761580</td>\n",
       "      <td>1.238420</td>\n",
       "    </tr>\n",
       "    <tr>\n",
       "      <th>140</th>\n",
       "      <td>10.9</td>\n",
       "      <td>9.419571</td>\n",
       "      <td>1.480429</td>\n",
       "    </tr>\n",
       "    <tr>\n",
       "      <th>98</th>\n",
       "      <td>25.4</td>\n",
       "      <td>24.255165</td>\n",
       "      <td>1.144835</td>\n",
       "    </tr>\n",
       "    <tr>\n",
       "      <th>172</th>\n",
       "      <td>7.6</td>\n",
       "      <td>7.695191</td>\n",
       "      <td>-0.095191</td>\n",
       "    </tr>\n",
       "    <tr>\n",
       "      <th>96</th>\n",
       "      <td>11.7</td>\n",
       "      <td>12.153176</td>\n",
       "      <td>-0.453176</td>\n",
       "    </tr>\n",
       "  </tbody>\n",
       "</table>\n",
       "</div>"
      ],
      "text/plain": [
       "     Actual       pred  residual\n",
       "95     16.9  16.565396  0.334604\n",
       "15     22.4  21.188228  1.211772\n",
       "30     21.4  21.551071 -0.151071\n",
       "158     7.3  10.889238 -3.589238\n",
       "128    24.7  22.202320  2.497680\n",
       "115    12.6  13.355569 -0.755569\n",
       "69     22.3  21.196925  1.103075\n",
       "170     8.4   7.350285  1.049715\n",
       "174    11.5  13.275471 -1.775471\n",
       "45     14.9  15.124495 -0.224495\n",
       "66      9.5   9.014430  0.485570\n",
       "182     8.7   6.525428  2.174572\n",
       "165    11.9  14.302060 -2.402060\n",
       "78      5.3   8.970260 -3.670260\n",
       "186    10.3   9.456796  0.843204\n",
       "177    11.7  12.004544 -0.304544\n",
       "56      5.5   8.915494 -3.415494\n",
       "152    16.6  16.156193  0.443807\n",
       "82     11.3  10.295829  1.004171\n",
       "68     18.9  18.724736  0.175264\n",
       "124    19.7  19.768218 -0.068218\n",
       "16     12.5  13.774690 -1.274690\n",
       "148    10.9  12.496389 -1.596389\n",
       "93     22.2  21.535018  0.664982\n",
       "65      9.3   7.608607  1.691393\n",
       "60      8.1   5.611980  2.488020\n",
       "84     21.7  20.917595  0.782405\n",
       "67     13.4  11.806277  1.593723\n",
       "125    10.6   9.080766  1.519234\n",
       "132     5.7   8.514120 -2.814120\n",
       "9      10.6  12.176049 -1.576049\n",
       "18     11.3   9.969194  1.330806\n",
       "55     23.7  21.730090  1.969910\n",
       "75      8.7  12.777706 -4.077706\n",
       "150    16.1  18.101136 -2.001136\n",
       "104    20.7  20.075908  0.624092\n",
       "135    11.6  14.262026 -2.662026\n",
       "137    20.8  20.938265 -0.138265\n",
       "164    11.9  10.839388  1.060612\n",
       "76      6.9   4.381906  2.518094\n",
       "79     11.0   9.513324  1.486676\n",
       "197    12.8  12.404863  0.395137\n",
       "38     10.1  10.170454 -0.070454\n",
       "24      9.7   8.090814  1.609186\n",
       "122    11.6  13.163884 -1.563884\n",
       "195     7.6   5.224355  2.375645\n",
       "29     10.5   9.288938  1.211062\n",
       "19     14.6  14.093307  0.506693\n",
       "143    10.4   8.690245  1.709755\n",
       "86     12.0  11.661198  0.338802\n",
       "114    14.6  15.718484 -1.118484\n",
       "173    11.7  11.631569  0.068431\n",
       "5       7.2  13.353607 -6.153607\n",
       "126     6.6  11.153147 -4.553147\n",
       "117     9.4   6.336368  3.063632\n",
       "73     11.0   9.761580  1.238420\n",
       "140    10.9   9.419571  1.480429\n",
       "98     25.4  24.255165  1.144835\n",
       "172     7.6   7.695191 -0.095191\n",
       "96     11.7  12.153176 -0.453176"
      ]
     },
     "execution_count": 26,
     "metadata": {},
     "output_type": "execute_result"
    }
   ],
   "source": [
    "comparing = pd.DataFrame(my_dict)  # bu değerler modelin genelini temsil ediyor. \n",
    "                                   # tek bir satıra veya feature a bakarak değerlendirme yapılmaz.\n",
    "comparing"
   ]
  },
  {
   "cell_type": "code",
   "execution_count": 27,
   "id": "d016001b",
   "metadata": {},
   "outputs": [
    {
     "data": {
      "text/html": [
       "<div>\n",
       "<style scoped>\n",
       "    .dataframe tbody tr th:only-of-type {\n",
       "        vertical-align: middle;\n",
       "    }\n",
       "\n",
       "    .dataframe tbody tr th {\n",
       "        vertical-align: top;\n",
       "    }\n",
       "\n",
       "    .dataframe thead th {\n",
       "        text-align: right;\n",
       "    }\n",
       "</style>\n",
       "<table border=\"1\" class=\"dataframe\">\n",
       "  <thead>\n",
       "    <tr style=\"text-align: right;\">\n",
       "      <th></th>\n",
       "      <th>Actual</th>\n",
       "      <th>pred</th>\n",
       "      <th>residual</th>\n",
       "    </tr>\n",
       "  </thead>\n",
       "  <tbody>\n",
       "    <tr>\n",
       "      <th>95</th>\n",
       "      <td>16.9</td>\n",
       "      <td>16.565396</td>\n",
       "      <td>0.334604</td>\n",
       "    </tr>\n",
       "    <tr>\n",
       "      <th>15</th>\n",
       "      <td>22.4</td>\n",
       "      <td>21.188228</td>\n",
       "      <td>1.211772</td>\n",
       "    </tr>\n",
       "    <tr>\n",
       "      <th>30</th>\n",
       "      <td>21.4</td>\n",
       "      <td>21.551071</td>\n",
       "      <td>-0.151071</td>\n",
       "    </tr>\n",
       "    <tr>\n",
       "      <th>158</th>\n",
       "      <td>7.3</td>\n",
       "      <td>10.889238</td>\n",
       "      <td>-3.589238</td>\n",
       "    </tr>\n",
       "    <tr>\n",
       "      <th>128</th>\n",
       "      <td>24.7</td>\n",
       "      <td>22.202320</td>\n",
       "      <td>2.497680</td>\n",
       "    </tr>\n",
       "    <tr>\n",
       "      <th>115</th>\n",
       "      <td>12.6</td>\n",
       "      <td>13.355569</td>\n",
       "      <td>-0.755569</td>\n",
       "    </tr>\n",
       "    <tr>\n",
       "      <th>69</th>\n",
       "      <td>22.3</td>\n",
       "      <td>21.196925</td>\n",
       "      <td>1.103075</td>\n",
       "    </tr>\n",
       "    <tr>\n",
       "      <th>170</th>\n",
       "      <td>8.4</td>\n",
       "      <td>7.350285</td>\n",
       "      <td>1.049715</td>\n",
       "    </tr>\n",
       "    <tr>\n",
       "      <th>174</th>\n",
       "      <td>11.5</td>\n",
       "      <td>13.275471</td>\n",
       "      <td>-1.775471</td>\n",
       "    </tr>\n",
       "    <tr>\n",
       "      <th>45</th>\n",
       "      <td>14.9</td>\n",
       "      <td>15.124495</td>\n",
       "      <td>-0.224495</td>\n",
       "    </tr>\n",
       "    <tr>\n",
       "      <th>66</th>\n",
       "      <td>9.5</td>\n",
       "      <td>9.014430</td>\n",
       "      <td>0.485570</td>\n",
       "    </tr>\n",
       "    <tr>\n",
       "      <th>182</th>\n",
       "      <td>8.7</td>\n",
       "      <td>6.525428</td>\n",
       "      <td>2.174572</td>\n",
       "    </tr>\n",
       "    <tr>\n",
       "      <th>165</th>\n",
       "      <td>11.9</td>\n",
       "      <td>14.302060</td>\n",
       "      <td>-2.402060</td>\n",
       "    </tr>\n",
       "    <tr>\n",
       "      <th>78</th>\n",
       "      <td>5.3</td>\n",
       "      <td>8.970260</td>\n",
       "      <td>-3.670260</td>\n",
       "    </tr>\n",
       "    <tr>\n",
       "      <th>186</th>\n",
       "      <td>10.3</td>\n",
       "      <td>9.456796</td>\n",
       "      <td>0.843204</td>\n",
       "    </tr>\n",
       "    <tr>\n",
       "      <th>177</th>\n",
       "      <td>11.7</td>\n",
       "      <td>12.004544</td>\n",
       "      <td>-0.304544</td>\n",
       "    </tr>\n",
       "    <tr>\n",
       "      <th>56</th>\n",
       "      <td>5.5</td>\n",
       "      <td>8.915494</td>\n",
       "      <td>-3.415494</td>\n",
       "    </tr>\n",
       "    <tr>\n",
       "      <th>152</th>\n",
       "      <td>16.6</td>\n",
       "      <td>16.156193</td>\n",
       "      <td>0.443807</td>\n",
       "    </tr>\n",
       "    <tr>\n",
       "      <th>82</th>\n",
       "      <td>11.3</td>\n",
       "      <td>10.295829</td>\n",
       "      <td>1.004171</td>\n",
       "    </tr>\n",
       "    <tr>\n",
       "      <th>68</th>\n",
       "      <td>18.9</td>\n",
       "      <td>18.724736</td>\n",
       "      <td>0.175264</td>\n",
       "    </tr>\n",
       "    <tr>\n",
       "      <th>124</th>\n",
       "      <td>19.7</td>\n",
       "      <td>19.768218</td>\n",
       "      <td>-0.068218</td>\n",
       "    </tr>\n",
       "    <tr>\n",
       "      <th>16</th>\n",
       "      <td>12.5</td>\n",
       "      <td>13.774690</td>\n",
       "      <td>-1.274690</td>\n",
       "    </tr>\n",
       "    <tr>\n",
       "      <th>148</th>\n",
       "      <td>10.9</td>\n",
       "      <td>12.496389</td>\n",
       "      <td>-1.596389</td>\n",
       "    </tr>\n",
       "    <tr>\n",
       "      <th>93</th>\n",
       "      <td>22.2</td>\n",
       "      <td>21.535018</td>\n",
       "      <td>0.664982</td>\n",
       "    </tr>\n",
       "    <tr>\n",
       "      <th>65</th>\n",
       "      <td>9.3</td>\n",
       "      <td>7.608607</td>\n",
       "      <td>1.691393</td>\n",
       "    </tr>\n",
       "  </tbody>\n",
       "</table>\n",
       "</div>"
      ],
      "text/plain": [
       "     Actual       pred  residual\n",
       "95     16.9  16.565396  0.334604\n",
       "15     22.4  21.188228  1.211772\n",
       "30     21.4  21.551071 -0.151071\n",
       "158     7.3  10.889238 -3.589238\n",
       "128    24.7  22.202320  2.497680\n",
       "115    12.6  13.355569 -0.755569\n",
       "69     22.3  21.196925  1.103075\n",
       "170     8.4   7.350285  1.049715\n",
       "174    11.5  13.275471 -1.775471\n",
       "45     14.9  15.124495 -0.224495\n",
       "66      9.5   9.014430  0.485570\n",
       "182     8.7   6.525428  2.174572\n",
       "165    11.9  14.302060 -2.402060\n",
       "78      5.3   8.970260 -3.670260\n",
       "186    10.3   9.456796  0.843204\n",
       "177    11.7  12.004544 -0.304544\n",
       "56      5.5   8.915494 -3.415494\n",
       "152    16.6  16.156193  0.443807\n",
       "82     11.3  10.295829  1.004171\n",
       "68     18.9  18.724736  0.175264\n",
       "124    19.7  19.768218 -0.068218\n",
       "16     12.5  13.774690 -1.274690\n",
       "148    10.9  12.496389 -1.596389\n",
       "93     22.2  21.535018  0.664982\n",
       "65      9.3   7.608607  1.691393"
      ]
     },
     "execution_count": 27,
     "metadata": {},
     "output_type": "execute_result"
    }
   ],
   "source": [
    "result_sample = comparing.head(25)\n",
    "result_sample"
   ]
  },
  {
   "cell_type": "code",
   "execution_count": 28,
   "id": "0dbf3a33",
   "metadata": {},
   "outputs": [
    {
     "data": {
      "image/png": "[encoded data removed]",
      "text/plain": [
       "<Figure size 1080x648 with 1 Axes>"
      ]
     },
     "metadata": {
      "needs_background": "light"
     },
     "output_type": "display_data"
    }
   ],
   "source": [
    "result_sample.plot(kind=\"bar\", figsize=(15,9))  # artık görselleştiriyoruz\n",
    "plt.show()"
   ]
  },
  {
   "cell_type": "markdown",
   "id": "5187d9ea",
   "metadata": {},
   "source": [
    "## Error Metrics"
   ]
  },
  {
   "cell_type": "code",
   "execution_count": 29,
   "id": "3c1b7f27",
   "metadata": {},
   "outputs": [],
   "source": [
    "from sklearn.metrics import mean_absolute_error, mean_squared_error, r2_score"
   ]
  },
  {
   "cell_type": "code",
   "execution_count": 79,
   "id": "ec3b5436",
   "metadata": {},
   "outputs": [
    {
     "data": {
      "text/plain": [
       "0.8609466508230368"
      ]
     },
     "execution_count": 79,
     "metadata": {},
     "output_type": "execute_result"
    }
   ],
   "source": [
    "R2_score = r2_score(y_test, y_pred) \n",
    "R2_score"
   ]
  },
  {
   "cell_type": "code",
   "execution_count": 80,
   "id": "ec91a9bb",
   "metadata": {},
   "outputs": [],
   "source": [
    "# elimdeki veriler doğru tahmin yapmak için 86% oranında yeterli.\n",
    "\n",
    "# dependent değerdeki değişikliğin % 86 sı bağımsız değişkenler ile açıklanabiliyor. \n",
    "# 86% of variance in DEPENDENT VARIABLE is explained by INDEPENDENT VARIABLE(S)\n",
    "\n",
    "# geriye kalan %14 ü ise belirlenemeyen nedenlerden kaynaklı.\n",
    "# adamın banyosunda altın küvet vardır evin fiyatı olması gerektiğinden fahiştir."
   ]
  },
  {
   "cell_type": "code",
   "execution_count": null,
   "id": "62c2a80a",
   "metadata": {},
   "outputs": [],
   "source": []
  },
  {
   "cell_type": "code",
   "execution_count": 81,
   "id": "b89025e6",
   "metadata": {},
   "outputs": [],
   "source": [
    "#MAE : absolut alarak artı ve eksi değerlerin birbirini götürmesi önlenerek hataların büyüklükleri toplanarak ortalama alınır.\n",
    "\n",
    "#MSE: hataların varyasyonu da denebilir. küçük hataları büyütür. bunu inteprett edilmesi, yorumlanması zordur. \n",
    "\n",
    "#bunu aşmak için RMSE kullanılır.\n",
    "#burada da hataların karesi alındıktan sonra tekrar root squared alınarak yine aynı seviyeye (datayla aynı metriğe) çekilir."
   ]
  },
  {
   "cell_type": "code",
   "execution_count": 82,
   "id": "03d81e51",
   "metadata": {},
   "outputs": [],
   "source": [
    "# TİP = Residual'ları biz modelimizin lineer regreesyona uygun oymadığını bulmak için kullanıyoruz."
   ]
  },
  {
   "cell_type": "code",
   "execution_count": 31,
   "id": "10f40a6c",
   "metadata": {},
   "outputs": [
    {
     "data": {
      "text/plain": [
       "1.5116692224549089"
      ]
     },
     "execution_count": 31,
     "metadata": {},
     "output_type": "execute_result"
    }
   ],
   "source": [
    "mae = mean_absolute_error(y_test, y_pred)  # residuallerin mutlak değerini alıp hepsini topluyoruz ve gözlem sayısına gölüyoruz.\n",
    "mae"
   ]
  },
  {
   "cell_type": "code",
   "execution_count": 32,
   "id": "ad2e2f5d",
   "metadata": {},
   "outputs": [
    {
     "data": {
      "text/plain": [
       "3.7967972367152205"
      ]
     },
     "execution_count": 32,
     "metadata": {},
     "output_type": "execute_result"
    }
   ],
   "source": [
    "mse = mean_squared_error(y_test, y_pred)\n",
    "mse"
   ]
  },
  {
   "cell_type": "code",
   "execution_count": 33,
   "id": "e2eeefd1",
   "metadata": {},
   "outputs": [
    {
     "data": {
      "text/plain": [
       "1.9485372043446387"
      ]
     },
     "execution_count": 33,
     "metadata": {},
     "output_type": "execute_result"
    }
   ],
   "source": [
    "rmse = np.sqrt(mse)\n",
    "rmse"
   ]
  },
  {
   "cell_type": "code",
   "execution_count": 34,
   "id": "fc5276db",
   "metadata": {},
   "outputs": [
    {
     "data": {
      "text/plain": [
       "14.022500000000003"
      ]
     },
     "execution_count": 34,
     "metadata": {},
     "output_type": "execute_result"
    }
   ],
   "source": [
    "sales_mean = df[\"sales\"].mean()\n",
    "sales_mean"
   ]
  },
  {
   "cell_type": "code",
   "execution_count": 83,
   "id": "a08863ea",
   "metadata": {},
   "outputs": [
    {
     "data": {
      "text/plain": [
       "0.10780311802138767"
      ]
     },
     "execution_count": 83,
     "metadata": {},
     "output_type": "execute_result"
    }
   ],
   "source": [
    "mae / sales_mean  # sales ortalamam 14 idi, mae ortalamam 1.5 idi. 1.5'u 14'e bölersem 1.5'un 14'ün yüzde kaçı olduğunu bulmuş olurum.\n",
    "                  # mae nin ortalamaya göre oranı %10\n",
    "                  # yani tahminlerim mae ye göre ortalama %10 hatalı"
   ]
  },
  {
   "cell_type": "code",
   "execution_count": 36,
   "id": "840d55ab",
   "metadata": {
    "scrolled": true
   },
   "outputs": [
    {
     "data": {
      "text/plain": [
       "0.13895790367941796"
      ]
     },
     "execution_count": 36,
     "metadata": {},
     "output_type": "execute_result"
    }
   ],
   "source": [
    "rmse / sales_mean # tahminlerim rmse ye göre % 14 oranında hatalı\n",
    "                  # yüksek çıktığı için cezlandırcağız. yukarıdaki değerlerimi değiştireceğim\n",
    "    \n",
    "                  # ilerleyen zamanlarda farklı regression lar göreceğiz. \n",
    "                  # onlar arasında rmse en düşük olanı dikkate alacağız\n",
    "                  # daha sonra onları nasıl daha iyileştireceğime karar vereceğim.\n",
    "                  # iyileştirme yöntemlerim --> gözlemimi artırırım, feature larımı artırırım."
   ]
  },
  {
   "cell_type": "code",
   "execution_count": 84,
   "id": "5ce09d57",
   "metadata": {},
   "outputs": [],
   "source": [
    "#Neden RMSE'yi tercih ediyoruz? \n",
    "#Biz tahminlerle gerçek değerler arasındaki farkları (Resudial'larımı)\n",
    "#RMSE  büyük oranda cezalandırıyor ve görünür hale getiriyor. (küçük olan farkları bile büyütüp gözümüze sokuyor) büyük farklar çıkınca demiş oluyor ki senin tahminlerinde hatalar var. \n",
    "#Biz farklı modelleri deneyeceğiz, hangisinde RMSE düşükse onu esas alacağız!"
   ]
  },
  {
   "cell_type": "code",
   "execution_count": 37,
   "id": "a561434d",
   "metadata": {},
   "outputs": [],
   "source": [
    "# rmse ile bulduğumuz değere bakıyoruz.\n",
    "# gerçek değer ile tahmin edilen değer arasında ciddi bir uçurum varsa onu cezalandırıyoruz.\n",
    "# böylece rmse yi minimize ediyoruz\n",
    "# aşağıda bunun örneğini göreceğiz"
   ]
  },
  {
   "cell_type": "markdown",
   "id": "purple-cornwall",
   "metadata": {},
   "source": [
    "## What is the concept of punishment for RMSE error metric?"
   ]
  },
  {
   "cell_type": "code",
   "execution_count": 38,
   "id": "f6c93a0f",
   "metadata": {},
   "outputs": [],
   "source": [
    "variables = {\"Actual\": [1000, 2000, 3000], \"pred\": [1100, 2200, 3600]}  # 3200 --> 3600 (cezalandırdık)"
   ]
  },
  {
   "cell_type": "code",
   "execution_count": 39,
   "id": "d69c4135",
   "metadata": {},
   "outputs": [
    {
     "data": {
      "text/html": [
       "<div>\n",
       "<style scoped>\n",
       "    .dataframe tbody tr th:only-of-type {\n",
       "        vertical-align: middle;\n",
       "    }\n",
       "\n",
       "    .dataframe tbody tr th {\n",
       "        vertical-align: top;\n",
       "    }\n",
       "\n",
       "    .dataframe thead th {\n",
       "        text-align: right;\n",
       "    }\n",
       "</style>\n",
       "<table border=\"1\" class=\"dataframe\">\n",
       "  <thead>\n",
       "    <tr style=\"text-align: right;\">\n",
       "      <th></th>\n",
       "      <th>Actual</th>\n",
       "      <th>pred</th>\n",
       "    </tr>\n",
       "  </thead>\n",
       "  <tbody>\n",
       "    <tr>\n",
       "      <th>0</th>\n",
       "      <td>1000</td>\n",
       "      <td>1100</td>\n",
       "    </tr>\n",
       "    <tr>\n",
       "      <th>1</th>\n",
       "      <td>2000</td>\n",
       "      <td>2200</td>\n",
       "    </tr>\n",
       "    <tr>\n",
       "      <th>2</th>\n",
       "      <td>3000</td>\n",
       "      <td>3600</td>\n",
       "    </tr>\n",
       "  </tbody>\n",
       "</table>\n",
       "</div>"
      ],
      "text/plain": [
       "   Actual  pred\n",
       "0    1000  1100\n",
       "1    2000  2200\n",
       "2    3000  3600"
      ]
     },
     "execution_count": 39,
     "metadata": {},
     "output_type": "execute_result"
    }
   ],
   "source": [
    "df_2 = pd.DataFrame(variables)\n",
    "df_2"
   ]
  },
  {
   "cell_type": "code",
   "execution_count": 40,
   "id": "d2d910c3",
   "metadata": {},
   "outputs": [
    {
     "data": {
      "text/html": [
       "<div>\n",
       "<style scoped>\n",
       "    .dataframe tbody tr th:only-of-type {\n",
       "        vertical-align: middle;\n",
       "    }\n",
       "\n",
       "    .dataframe tbody tr th {\n",
       "        vertical-align: top;\n",
       "    }\n",
       "\n",
       "    .dataframe thead th {\n",
       "        text-align: right;\n",
       "    }\n",
       "</style>\n",
       "<table border=\"1\" class=\"dataframe\">\n",
       "  <thead>\n",
       "    <tr style=\"text-align: right;\">\n",
       "      <th></th>\n",
       "      <th>Actual</th>\n",
       "      <th>pred</th>\n",
       "      <th>residual</th>\n",
       "    </tr>\n",
       "  </thead>\n",
       "  <tbody>\n",
       "    <tr>\n",
       "      <th>0</th>\n",
       "      <td>1000</td>\n",
       "      <td>1100</td>\n",
       "      <td>100</td>\n",
       "    </tr>\n",
       "    <tr>\n",
       "      <th>1</th>\n",
       "      <td>2000</td>\n",
       "      <td>2200</td>\n",
       "      <td>200</td>\n",
       "    </tr>\n",
       "    <tr>\n",
       "      <th>2</th>\n",
       "      <td>3000</td>\n",
       "      <td>3600</td>\n",
       "      <td>600</td>\n",
       "    </tr>\n",
       "  </tbody>\n",
       "</table>\n",
       "</div>"
      ],
      "text/plain": [
       "   Actual  pred  residual\n",
       "0    1000  1100       100\n",
       "1    2000  2200       200\n",
       "2    3000  3600       600"
      ]
     },
     "execution_count": 40,
     "metadata": {},
     "output_type": "execute_result"
    }
   ],
   "source": [
    "df_2[\"residual\"] = abs(df_2.Actual - df_2.pred)\n",
    "df_2"
   ]
  },
  {
   "cell_type": "code",
   "execution_count": 41,
   "id": "d7c9c0ba",
   "metadata": {},
   "outputs": [
    {
     "data": {
      "text/plain": [
       "300.0"
      ]
     },
     "execution_count": 41,
     "metadata": {},
     "output_type": "execute_result"
    }
   ],
   "source": [
    "# mae\n",
    "df_2.residual.sum()/3  # cezalandırmadan önce bulduğum değerim 166.66"
   ]
  },
  {
   "cell_type": "code",
   "execution_count": 42,
   "id": "4e3e227f",
   "metadata": {},
   "outputs": [
    {
     "data": {
      "text/plain": [
       "369.68455021364724"
      ]
     },
     "execution_count": 42,
     "metadata": {},
     "output_type": "execute_result"
    }
   ],
   "source": [
    "# rmse\n",
    "((df_2.residual**2).sum()/3)**0.5  #cezalandırmadan önce bulduğum değerim 173.20"
   ]
  },
  {
   "cell_type": "code",
   "execution_count": 85,
   "id": "1f9cce1a",
   "metadata": {},
   "outputs": [],
   "source": [
    "# pred'in bir değerini 3600 yaptığımda rmse 173'den 369 a çıktı! \n",
    "\n",
    "# mae'deki yeni durum 300 iken rmse de (rmse, karekökten dolayı mae ile aynı seviyede bir metrik olmasına rağmen) bu değerin 369 olduğunu gördüm.\n",
    "# yani RMSE mae'ye göre hatayı daha görünür hale getirdi. CEZALANDIRDI"
   ]
  },
  {
   "cell_type": "markdown",
   "id": "64cfce1a",
   "metadata": {},
   "source": [
    "## Evaluation Model"
   ]
  },
  {
   "cell_type": "code",
   "execution_count": 43,
   "id": "a40f61ae",
   "metadata": {},
   "outputs": [],
   "source": [
    "# yukarıdaki mae-mse-rmse değerlerimi her defasında tek tek yazarak uğraşmamak için kolay bir def yazdık.\n",
    "\n",
    "def eval_metric(actual, pred):\n",
    "    mae = mean_absolute_error(actual, pred)\n",
    "    mse = mean_squared_error(actual, pred)\n",
    "    rmse = np.sqrt(mean_squared_error(actual, pred))\n",
    "    R2_score = r2_score(actual, pred)\n",
    "    print(\"Model testing performance:\")\n",
    "    print(\"--------------------------\")\n",
    "    print(f\"R2_score \\t: {R2_score}\")\n",
    "    print(f\"MAE \\t\\t: {mae}\")\n",
    "    print(f\"MSE \\t\\t: {mse}\")\n",
    "    print(f\"RMSE \\t\\t: {rmse}\")"
   ]
  },
  {
   "cell_type": "code",
   "execution_count": 44,
   "id": "0d763e15",
   "metadata": {},
   "outputs": [
    {
     "name": "stdout",
     "output_type": "stream",
     "text": [
      "Model testing performance:\n",
      "--------------------------\n",
      "R2_score \t: 0.8609466508230368\n",
      "MAE \t\t: 1.5116692224549089\n",
      "MSE \t\t: 3.7967972367152205\n",
      "RMSE \t\t: 1.9485372043446387\n"
     ]
    }
   ],
   "source": [
    "eval_metric(y_test, y_pred) # değerlerimizi kolayca def ile tek seferde elde ettik\n",
    "                            # bu değerleri elde ettik ama neye göre değerlendireceğiz : \n",
    "                            # az önce train yaptığımız değerleri kullanıp tekrar prediction yapacağız.\n",
    "                            # ve bu bu kod satırının cevaplarıyla karşılaştıracağız.\n",
    "                            # beklentimiz kıyasladığımız değerlerin birbirine olabildiğince yakın olması"
   ]
  },
  {
   "cell_type": "code",
   "execution_count": 45,
   "id": "52bf0a3d",
   "metadata": {},
   "outputs": [],
   "source": [
    "y_train_pred = model.predict(X_train)  # tekrar train ettik."
   ]
  },
  {
   "cell_type": "code",
   "execution_count": 46,
   "id": "46832c95",
   "metadata": {},
   "outputs": [
    {
     "name": "stdout",
     "output_type": "stream",
     "text": [
      "Model testing performance:\n",
      "--------------------------\n",
      "R2_score \t: 0.9055159502227753\n",
      "MAE \t\t: 1.158150294807253\n",
      "MSE \t\t: 2.479355178905786\n",
      "RMSE \t\t: 1.574596830590544\n"
     ]
    }
   ],
   "source": [
    "eval_metric(y_train, y_train_pred)  # bu sonucu üstteki train edilmemiş sonuçla karşılaştır\n",
    "                                    # y_train in sonuçlarının daha iyi çıkması beklendiği için y_train i kullandık.\n",
    "                                    # çünkü zaten eğitimi yaptı ve verileri daha önceden gördü\n",
    "                                    # bu durum çoğunlukla böyledir ama herzaman olmayabilir"
   ]
  },
  {
   "cell_type": "code",
   "execution_count": 86,
   "id": "79c2f313",
   "metadata": {},
   "outputs": [],
   "source": [
    "# y_train skorlarının çoğunlukla daha iyi çıkması beklenir. çünkü train yaparken bu datayı kullandığı için bu veriler üzerinde eğitim yaptığı için bu verileri gördüğü için.. (fakat her zaman değil)\n",
    "\n",
    "# fakat ben görmediğim veriler üzerinde de modelimden iyi skorlar alabiliyorum.\n",
    "\n",
    "# burada modelimin test datası ile yaptığımda elde ettiğim skor, train data ile yaptığıma ayakın olduğu için optimal bir başarıyı yakaladık diyebiliriz. \n",
    "\n",
    "# Yani test setinden aldığım değerle train setinden aldığımız değeri kıyaslıyoruz. \n",
    "\n",
    "# Bu değerler ne kadar yakınsa modelimin başarı oranı o kadar iyidir."
   ]
  },
  {
   "cell_type": "markdown",
   "id": "61b357a4",
   "metadata": {},
   "source": [
    "## Is data suitable for linear regression?"
   ]
  },
  {
   "cell_type": "markdown",
   "id": "657c7e20",
   "metadata": {},
   "source": [
    "## Plotting residuals"
   ]
  },
  {
   "cell_type": "code",
   "execution_count": 47,
   "id": "9fac9a34",
   "metadata": {},
   "outputs": [],
   "source": [
    "# şimdi yapacağım işlemleri modelimin lineer regresyona uygun olup olmadığını görmek için yapıyorum"
   ]
  },
  {
   "cell_type": "code",
   "execution_count": 48,
   "id": "b7d32411",
   "metadata": {},
   "outputs": [],
   "source": [
    "residuals = y_test - y_pred"
   ]
  },
  {
   "cell_type": "code",
   "execution_count": 49,
   "id": "97a8964d",
   "metadata": {},
   "outputs": [
    {
     "data": {
      "image/png": "[encoded data removed]",
      "text/plain": [
       "<Figure size 720x432 with 1 Axes>"
      ]
     },
     "metadata": {
      "needs_background": "light"
     },
     "output_type": "display_data"
    }
   ],
   "source": [
    "plt.figure(figsize= (10,6))\n",
    "sns.scatterplot(x= y_test, y= residuals) # residuals\n",
    "plt.axhline(y = 0, color=\"r\", linestyle=\"--\") # kırmızı çizgiyi grafiğe ekledik.\n",
    "plt.show()\n",
    "\n",
    "# düz kesikli çizgi gerçek değerle tahmin değerin sıfır olduğu noktayı ifade eder.\n",
    "# mavi noktalar da aradakı farklar."
   ]
  },
  {
   "cell_type": "code",
   "execution_count": 50,
   "id": "5cedc658",
   "metadata": {},
   "outputs": [],
   "source": [
    "# Benim residual değerlerim kırmızı çizginin her iki tarafında ne kadar normal dağılmışsa, çizginin altındaki değerlerler ile üstündeki değerler birbirini götürecek şekilde ise (toplamı 0 veya 0'a yakın ise)  \n",
    "# yani linearity ne kadar fazla ise veri linear modele o kadar uygundur\n",
    "\n",
    "\n",
    "# genel olarak bilmemiz gereken residual grafiğinde;\n",
    "\n",
    "# 1. herhangi bir patern OLMAMALI\n",
    "# 2. 0'ın üstüde ve altında eşit bir dağılım olmalı  --> böyle ise linear regression'a uygun bir datanız var demektir."
   ]
  },
  {
   "cell_type": "code",
   "execution_count": 51,
   "id": "7ad04433",
   "metadata": {},
   "outputs": [
    {
     "data": {
      "text/plain": [
       "<AxesSubplot:xlabel='sales', ylabel='Density'>"
      ]
     },
     "execution_count": 51,
     "metadata": {},
     "output_type": "execute_result"
    },
    {
     "data": {
      "image/png": "[encoded data removed]",
      "text/plain": [
       "<Figure size 720x432 with 1 Axes>"
      ]
     },
     "metadata": {
      "needs_background": "light"
     },
     "output_type": "display_data"
    }
   ],
   "source": [
    "sns.kdeplot(residuals)  # burda da dağılıma bakıyoruz (left skewed bir grafik olduğunu görüyoruz)"
   ]
  },
  {
   "cell_type": "code",
   "execution_count": 52,
   "id": "7c604add",
   "metadata": {
    "scrolled": false
   },
   "outputs": [
    {
     "data": {
      "image/png": "[encoded data removed]",
      "text/plain": [
       "<Figure size 720x432 with 1 Axes>"
      ]
     },
     "metadata": {
      "needs_background": "light"
     },
     "output_type": "display_data"
    }
   ],
   "source": [
    "stats.probplot(residuals, dist=\"norm\", plot=plt); # dist = norm --> normal dağılım\n",
    "\n",
    "# verilerim kırmızı çizginin etrafında sarmaşık gibi dolanıyorsa normal dağılıma yakın demektir."
   ]
  },
  {
   "cell_type": "code",
   "execution_count": 53,
   "id": "fec8fcb5",
   "metadata": {},
   "outputs": [
    {
     "data": {
      "text/plain": [
       "-0.9865673346742742"
      ]
     },
     "execution_count": 53,
     "metadata": {},
     "output_type": "execute_result"
    }
   ],
   "source": [
    "skew(residuals) # model tam sınırda. nonlineer bir modele sokarsam daha iyi bir sonuç alabilirim."
   ]
  },
  {
   "cell_type": "code",
   "execution_count": 87,
   "id": "6bfb52a7",
   "metadata": {},
   "outputs": [],
   "source": [
    "#lineer regression uygulayabilmemiz için kabul edilebilir skewness aralığı -1 ile +1 arasındadır.\n",
    "\n",
    "# eğer skew değerim -0.5 ile +0.5 arasında bir değerde ise ise normal dağılımdan bahsedebiliriz ve dolayısıyla lineer regression için uygundur. \n",
    "\n",
    "# 0.5 ile 1 arasında ise orta seviyede (moderate) skewness olduğunu söyleyebiliriz.\n",
    "\n",
    "# bu durumda da lineer regression kullanabiliriz ama -/+ 1 den büyük ise lineer reg. uygulayamayız. "
   ]
  },
  {
   "cell_type": "code",
   "execution_count": 54,
   "id": "c4aee196",
   "metadata": {},
   "outputs": [
    {
     "name": "stdout",
     "output_type": "stream",
     "text": [
      "Requirement already satisfied: yellowbrick in c:\\users\\casper\\appdata\\roaming\\python\\python38\\site-packages (1.3.post1)Note: you may need to restart the kernel to use updated packages.\n",
      "\n",
      "Requirement already satisfied: numpy<1.20,>=1.16.0 in c:\\users\\casper\\anaconda3\\lib\\site-packages (from yellowbrick) (1.19.5)\n",
      "Requirement already satisfied: cycler>=0.10.0 in c:\\users\\casper\\anaconda3\\lib\\site-packages (from yellowbrick) (0.10.0)\n",
      "Requirement already satisfied: scipy>=1.0.0 in c:\\users\\casper\\anaconda3\\lib\\site-packages (from yellowbrick) (1.6.2)\n",
      "Requirement already satisfied: matplotlib!=3.0.0,>=2.0.2 in c:\\users\\casper\\anaconda3\\lib\\site-packages (from yellowbrick) (3.3.4)\n",
      "Requirement already satisfied: scikit-learn>=0.20 in c:\\users\\casper\\anaconda3\\lib\\site-packages (from yellowbrick) (0.24.1)\n",
      "Requirement already satisfied: six in c:\\users\\casper\\anaconda3\\lib\\site-packages (from cycler>=0.10.0->yellowbrick) (1.15.0)\n",
      "Requirement already satisfied: python-dateutil>=2.1 in c:\\users\\casper\\anaconda3\\lib\\site-packages (from matplotlib!=3.0.0,>=2.0.2->yellowbrick) (2.8.1)\n",
      "Requirement already satisfied: pillow>=6.2.0 in c:\\users\\casper\\anaconda3\\lib\\site-packages (from matplotlib!=3.0.0,>=2.0.2->yellowbrick) (8.2.0)\n",
      "Requirement already satisfied: pyparsing!=2.0.4,!=2.1.2,!=2.1.6,>=2.0.3 in c:\\users\\casper\\anaconda3\\lib\\site-packages (from matplotlib!=3.0.0,>=2.0.2->yellowbrick) (2.4.7)\n",
      "Requirement already satisfied: kiwisolver>=1.0.1 in c:\\users\\casper\\anaconda3\\lib\\site-packages (from matplotlib!=3.0.0,>=2.0.2->yellowbrick) (1.3.1)\n",
      "Requirement already satisfied: joblib>=0.11 in c:\\users\\casper\\anaconda3\\lib\\site-packages (from scikit-learn>=0.20->yellowbrick) (1.0.1)\n",
      "Requirement already satisfied: threadpoolctl>=2.0.0 in c:\\users\\casper\\anaconda3\\lib\\site-packages (from scikit-learn>=0.20->yellowbrick) (2.1.0)\n"
     ]
    }
   ],
   "source": [
    "pip install yellowbrick"
   ]
  },
  {
   "cell_type": "code",
   "execution_count": 55,
   "id": "16271acf",
   "metadata": {},
   "outputs": [],
   "source": [
    "from yellowbrick.regressor import ResidualsPlot\n",
    "# buradaki kütüphane ile yukarıda yaptığımız residual plotu daha iyi görselleştireceğiz."
   ]
  },
  {
   "cell_type": "code",
   "execution_count": 56,
   "id": "97b23e97",
   "metadata": {},
   "outputs": [
    {
     "data": {
      "image/png": "[encoded data removed]",
      "text/plain": [
       "<Figure size 576x396 with 2 Axes>"
      ]
     },
     "metadata": {},
     "output_type": "display_data"
    }
   ],
   "source": [
    "# Instantiate the linear model and visualizer\n",
    "model = LinearRegression()\n",
    "\n",
    "visualizer = ResidualsPlot(model)\n",
    "visualizer.fit(X_train, y_train)  # Fit the training data to the visualizer\n",
    "visualizer.score(X_test, y_test)  # Evaluate the model on the test data\n",
    "visualizer.show();        # Finalize and render the figure"
   ]
  },
  {
   "cell_type": "code",
   "execution_count": 88,
   "id": "dee465bf",
   "metadata": {},
   "outputs": [],
   "source": [
    "# hangi modelin linear Reg için daha uygun olup olmadığını anlamak için bu grafikleri tek tek çizdirmeye gerek yok. \n",
    "\n",
    "# diğer modeller ile kıyaslayıp karar vermemiz gerek ama interview larda sorarlarsa corr ve normal dağılıma benzerliği ile karar vermemiz gerektiğini aklımızda bulunduralım."
   ]
  },
  {
   "cell_type": "markdown",
   "id": "64a11c46",
   "metadata": {},
   "source": [
    "## Prediction Error for LinearRegression"
   ]
  },
  {
   "cell_type": "code",
   "execution_count": 57,
   "id": "9f550636",
   "metadata": {
    "scrolled": true
   },
   "outputs": [],
   "source": [
    "from yellowbrick.regressor import PredictionError"
   ]
  },
  {
   "cell_type": "code",
   "execution_count": 58,
   "id": "b0a96b50",
   "metadata": {},
   "outputs": [
    {
     "data": {
      "image/png": "[encoded data removed]",
      "text/plain": [
       "<Figure size 576x396 with 1 Axes>"
      ]
     },
     "metadata": {},
     "output_type": "display_data"
    },
    {
     "data": {
      "text/plain": [
       "<AxesSubplot:title={'center':'Prediction Error for LinearRegression'}, xlabel='$y$', ylabel='$\\\\hat{y}$'>"
      ]
     },
     "execution_count": 58,
     "metadata": {},
     "output_type": "execute_result"
    }
   ],
   "source": [
    "# Instantiate the linear model and visualizer\n",
    "model = LinearRegression()\n",
    "\n",
    "visualizer = PredictionError(model)\n",
    "visualizer.fit(X_train, y_train)  # Fit the training data to the visualizer\n",
    "visualizer.score(X_test, y_test)  # Evaluate the model on the test data\n",
    "visualizer.show()"
   ]
  },
  {
   "cell_type": "code",
   "execution_count": 89,
   "id": "28aacd80",
   "metadata": {},
   "outputs": [],
   "source": [
    "# Silik olan line, değerlerin mükemmel olduğu sonuç. siyah olan ise lineer regressyonunuzdan sonucunda çıkan sonuç.\n",
    "# bunlar üst üste bindiği zaman modelinizden rahatlıkla emin olabilirsiniz."
   ]
  },
  {
   "cell_type": "markdown",
   "id": "ef3f99c5",
   "metadata": {},
   "source": [
    "## Retraining Model on Full Data"
   ]
  },
  {
   "cell_type": "code",
   "execution_count": 59,
   "id": "044caa15",
   "metadata": {},
   "outputs": [],
   "source": [
    "final_model = LinearRegression()"
   ]
  },
  {
   "cell_type": "code",
   "execution_count": 60,
   "id": "fbdbdfbc",
   "metadata": {},
   "outputs": [
    {
     "data": {
      "text/plain": [
       "LinearRegression()"
      ]
     },
     "execution_count": 60,
     "metadata": {},
     "output_type": "execute_result"
    }
   ],
   "source": [
    "final_model.fit(X, y)  # train leri kullanmadık.\n",
    "                       # çünkü en iyi modeli karar verdikten sonraki eğitimi tüm datasetimle yapıyorum "
   ]
  },
  {
   "cell_type": "code",
   "execution_count": 90,
   "id": "61c1ee2a",
   "metadata": {},
   "outputs": [],
   "source": [
    "# eğitimimi tamamladıktan ve model validation'u geçtikten ;\n",
    "# (yani modelimden emin olduktan ve hangi modeli seçeceğime karar verdikten sonra) artık son aşamada tüm datamı kullanarak fit yapıyorum.\n",
    "\n",
    "# çünkü modelimi ne kadar büyük data ile eğitirsem  o kadar iyi sonuç alırım \n",
    "# ( o kadar daha kesin ve sağlıklı bir predict veren modelim olur)"
   ]
  },
  {
   "cell_type": "code",
   "execution_count": 91,
   "id": "d682f21e",
   "metadata": {},
   "outputs": [],
   "source": [
    "# Hangi modeli seçmem gerektiğine karar verdikten sonra, modeli tüm data ile eğitirim.\n",
    "# Çünkü ne kadar fazla data ile eğitirsem o kadar daha kesin ve sağlıklı bir predict yapan algoritma oluştururum.\n",
    "\n",
    "# validation'u bir önceki adımda test datam ile geçti. modelimden emin oldum ve ona karar verdim.\n",
    "# o yüzden artık emin olduğum modelimi daha büyük data ile eğitiyorum."
   ]
  },
  {
   "cell_type": "markdown",
   "id": "b8b712ac",
   "metadata": {},
   "source": [
    "## Coefficients"
   ]
  },
  {
   "cell_type": "code",
   "execution_count": 61,
   "id": "30e459b3",
   "metadata": {},
   "outputs": [
    {
     "data": {
      "text/plain": [
       "array([ 0.04576465,  0.18853002, -0.00103749])"
      ]
     },
     "execution_count": 61,
     "metadata": {},
     "output_type": "execute_result"
    }
   ],
   "source": [
    "final_model.coef_"
   ]
  },
  {
   "cell_type": "code",
   "execution_count": 62,
   "id": "fc23385d",
   "metadata": {},
   "outputs": [
    {
     "data": {
      "text/plain": [
       "2.9388893694594067"
      ]
     },
     "execution_count": 62,
     "metadata": {},
     "output_type": "execute_result"
    }
   ],
   "source": [
    "final_model.intercept_"
   ]
  },
  {
   "cell_type": "code",
   "execution_count": 63,
   "id": "5b5a6a1b",
   "metadata": {},
   "outputs": [
    {
     "data": {
      "text/html": [
       "<div>\n",
       "<style scoped>\n",
       "    .dataframe tbody tr th:only-of-type {\n",
       "        vertical-align: middle;\n",
       "    }\n",
       "\n",
       "    .dataframe tbody tr th {\n",
       "        vertical-align: top;\n",
       "    }\n",
       "\n",
       "    .dataframe thead th {\n",
       "        text-align: right;\n",
       "    }\n",
       "</style>\n",
       "<table border=\"1\" class=\"dataframe\">\n",
       "  <thead>\n",
       "    <tr style=\"text-align: right;\">\n",
       "      <th></th>\n",
       "      <th>Coefficient</th>\n",
       "    </tr>\n",
       "  </thead>\n",
       "  <tbody>\n",
       "    <tr>\n",
       "      <th>TV</th>\n",
       "      <td>0.045765</td>\n",
       "    </tr>\n",
       "    <tr>\n",
       "      <th>radio</th>\n",
       "      <td>0.188530</td>\n",
       "    </tr>\n",
       "    <tr>\n",
       "      <th>newspaper</th>\n",
       "      <td>-0.001037</td>\n",
       "    </tr>\n",
       "  </tbody>\n",
       "</table>\n",
       "</div>"
      ],
      "text/plain": [
       "           Coefficient\n",
       "TV            0.045765\n",
       "radio         0.188530\n",
       "newspaper    -0.001037"
      ]
     },
     "execution_count": 63,
     "metadata": {},
     "output_type": "execute_result"
    }
   ],
   "source": [
    "coef_df = pd.DataFrame(final_model.coef_, index = X.columns, columns = [\"Coefficient\"])\n",
    "coef_df\n",
    "# buradaki değerlere bakarak şu daha etkilidir diyemeyiz.\n",
    "# burdaki değerleri feature'larla çarpınca hangisi daha etkili olduğunu belirleriz."
   ]
  },
  {
   "cell_type": "markdown",
   "id": "d2044d55",
   "metadata": {},
   "source": [
    "## Prediction on New Data"
   ]
  },
  {
   "cell_type": "code",
   "execution_count": 64,
   "id": "c8496235",
   "metadata": {},
   "outputs": [],
   "source": [
    "adv = [[150,20,15]]  #2 boyutlu olmalı. yoksa hata verir"
   ]
  },
  {
   "cell_type": "code",
   "execution_count": 65,
   "id": "c0b8aff4",
   "metadata": {},
   "outputs": [
    {
     "data": {
      "text/plain": [
       "array([13.55862413])"
      ]
     },
     "execution_count": 65,
     "metadata": {},
     "output_type": "execute_result"
    }
   ],
   "source": [
    "final_model.predict(adv)"
   ]
  },
  {
   "cell_type": "code",
   "execution_count": 66,
   "id": "c824217a",
   "metadata": {},
   "outputs": [
    {
     "data": {
      "text/plain": [
       "13.558684369459405"
      ]
     },
     "execution_count": 66,
     "metadata": {},
     "output_type": "execute_result"
    }
   ],
   "source": [
    "0.045765 * 150 + 0.188530 *20 + -0.001037*15 + final_model.intercept_"
   ]
  },
  {
   "cell_type": "code",
   "execution_count": 67,
   "id": "cade7628",
   "metadata": {},
   "outputs": [],
   "source": [
    "adv_2 = [[150, 20, 15], [160, 20, 15]], #TV tahminimi 10 birim artırdım"
   ]
  },
  {
   "cell_type": "code",
   "execution_count": 92,
   "id": "884cbd25",
   "metadata": {},
   "outputs": [
    {
     "ename": "ValueError",
     "evalue": "Found array with dim 3. Estimator expected <= 2.",
     "output_type": "error",
     "traceback": [
      "\u001b[1;31m---------------------------------------------------------------------------\u001b[0m",
      "\u001b[1;31mValueError\u001b[0m                                Traceback (most recent call last)",
      "\u001b[1;32m<ipython-input-92-89de5973ef5c>\u001b[0m in \u001b[0;36m<module>\u001b[1;34m\u001b[0m\n\u001b[1;32m----> 1\u001b[1;33m \u001b[0mfinal_model\u001b[0m\u001b[1;33m.\u001b[0m\u001b[0mpredict\u001b[0m\u001b[1;33m(\u001b[0m\u001b[0madv_2\u001b[0m\u001b[1;33m)\u001b[0m \u001b[1;31m# TV tahminimi 10 birim artırınca 0,45 fark oluştu\u001b[0m\u001b[1;33m\u001b[0m\u001b[1;33m\u001b[0m\u001b[0m\n\u001b[0m",
      "\u001b[1;32m~\\anaconda3\\lib\\site-packages\\sklearn\\linear_model\\_base.py\u001b[0m in \u001b[0;36mpredict\u001b[1;34m(self, X)\u001b[0m\n\u001b[0;32m    236\u001b[0m             \u001b[0mReturns\u001b[0m \u001b[0mpredicted\u001b[0m \u001b[0mvalues\u001b[0m\u001b[1;33m.\u001b[0m\u001b[1;33m\u001b[0m\u001b[1;33m\u001b[0m\u001b[0m\n\u001b[0;32m    237\u001b[0m         \"\"\"\n\u001b[1;32m--> 238\u001b[1;33m         \u001b[1;32mreturn\u001b[0m \u001b[0mself\u001b[0m\u001b[1;33m.\u001b[0m\u001b[0m_decision_function\u001b[0m\u001b[1;33m(\u001b[0m\u001b[0mX\u001b[0m\u001b[1;33m)\u001b[0m\u001b[1;33m\u001b[0m\u001b[1;33m\u001b[0m\u001b[0m\n\u001b[0m\u001b[0;32m    239\u001b[0m \u001b[1;33m\u001b[0m\u001b[0m\n\u001b[0;32m    240\u001b[0m     \u001b[0m_preprocess_data\u001b[0m \u001b[1;33m=\u001b[0m \u001b[0mstaticmethod\u001b[0m\u001b[1;33m(\u001b[0m\u001b[0m_preprocess_data\u001b[0m\u001b[1;33m)\u001b[0m\u001b[1;33m\u001b[0m\u001b[1;33m\u001b[0m\u001b[0m\n",
      "\u001b[1;32m~\\anaconda3\\lib\\site-packages\\sklearn\\linear_model\\_base.py\u001b[0m in \u001b[0;36m_decision_function\u001b[1;34m(self, X)\u001b[0m\n\u001b[0;32m    218\u001b[0m         \u001b[0mcheck_is_fitted\u001b[0m\u001b[1;33m(\u001b[0m\u001b[0mself\u001b[0m\u001b[1;33m)\u001b[0m\u001b[1;33m\u001b[0m\u001b[1;33m\u001b[0m\u001b[0m\n\u001b[0;32m    219\u001b[0m \u001b[1;33m\u001b[0m\u001b[0m\n\u001b[1;32m--> 220\u001b[1;33m         \u001b[0mX\u001b[0m \u001b[1;33m=\u001b[0m \u001b[0mcheck_array\u001b[0m\u001b[1;33m(\u001b[0m\u001b[0mX\u001b[0m\u001b[1;33m,\u001b[0m \u001b[0maccept_sparse\u001b[0m\u001b[1;33m=\u001b[0m\u001b[1;33m[\u001b[0m\u001b[1;34m'csr'\u001b[0m\u001b[1;33m,\u001b[0m \u001b[1;34m'csc'\u001b[0m\u001b[1;33m,\u001b[0m \u001b[1;34m'coo'\u001b[0m\u001b[1;33m]\u001b[0m\u001b[1;33m)\u001b[0m\u001b[1;33m\u001b[0m\u001b[1;33m\u001b[0m\u001b[0m\n\u001b[0m\u001b[0;32m    221\u001b[0m         return safe_sparse_dot(X, self.coef_.T,\n\u001b[0;32m    222\u001b[0m                                dense_output=True) + self.intercept_\n",
      "\u001b[1;32m~\\anaconda3\\lib\\site-packages\\sklearn\\utils\\validation.py\u001b[0m in \u001b[0;36minner_f\u001b[1;34m(*args, **kwargs)\u001b[0m\n\u001b[0;32m     61\u001b[0m             \u001b[0mextra_args\u001b[0m \u001b[1;33m=\u001b[0m \u001b[0mlen\u001b[0m\u001b[1;33m(\u001b[0m\u001b[0margs\u001b[0m\u001b[1;33m)\u001b[0m \u001b[1;33m-\u001b[0m \u001b[0mlen\u001b[0m\u001b[1;33m(\u001b[0m\u001b[0mall_args\u001b[0m\u001b[1;33m)\u001b[0m\u001b[1;33m\u001b[0m\u001b[1;33m\u001b[0m\u001b[0m\n\u001b[0;32m     62\u001b[0m             \u001b[1;32mif\u001b[0m \u001b[0mextra_args\u001b[0m \u001b[1;33m<=\u001b[0m \u001b[1;36m0\u001b[0m\u001b[1;33m:\u001b[0m\u001b[1;33m\u001b[0m\u001b[1;33m\u001b[0m\u001b[0m\n\u001b[1;32m---> 63\u001b[1;33m                 \u001b[1;32mreturn\u001b[0m \u001b[0mf\u001b[0m\u001b[1;33m(\u001b[0m\u001b[1;33m*\u001b[0m\u001b[0margs\u001b[0m\u001b[1;33m,\u001b[0m \u001b[1;33m**\u001b[0m\u001b[0mkwargs\u001b[0m\u001b[1;33m)\u001b[0m\u001b[1;33m\u001b[0m\u001b[1;33m\u001b[0m\u001b[0m\n\u001b[0m\u001b[0;32m     64\u001b[0m \u001b[1;33m\u001b[0m\u001b[0m\n\u001b[0;32m     65\u001b[0m             \u001b[1;31m# extra_args > 0\u001b[0m\u001b[1;33m\u001b[0m\u001b[1;33m\u001b[0m\u001b[1;33m\u001b[0m\u001b[0m\n",
      "\u001b[1;32m~\\anaconda3\\lib\\site-packages\\sklearn\\utils\\validation.py\u001b[0m in \u001b[0;36mcheck_array\u001b[1;34m(array, accept_sparse, accept_large_sparse, dtype, order, copy, force_all_finite, ensure_2d, allow_nd, ensure_min_samples, ensure_min_features, estimator)\u001b[0m\n\u001b[0;32m    657\u001b[0m                     \"into decimal numbers with dtype='numeric'\") from e\n\u001b[0;32m    658\u001b[0m         \u001b[1;32mif\u001b[0m \u001b[1;32mnot\u001b[0m \u001b[0mallow_nd\u001b[0m \u001b[1;32mand\u001b[0m \u001b[0marray\u001b[0m\u001b[1;33m.\u001b[0m\u001b[0mndim\u001b[0m \u001b[1;33m>=\u001b[0m \u001b[1;36m3\u001b[0m\u001b[1;33m:\u001b[0m\u001b[1;33m\u001b[0m\u001b[1;33m\u001b[0m\u001b[0m\n\u001b[1;32m--> 659\u001b[1;33m             raise ValueError(\"Found array with dim %d. %s expected <= 2.\"\n\u001b[0m\u001b[0;32m    660\u001b[0m                              % (array.ndim, estimator_name))\n\u001b[0;32m    661\u001b[0m \u001b[1;33m\u001b[0m\u001b[0m\n",
      "\u001b[1;31mValueError\u001b[0m: Found array with dim 3. Estimator expected <= 2."
     ]
    }
   ],
   "source": [
    "final_model.predict(adv_2) # TV tahminimi 10 birim artırınca 0,45 fark oluştu"
   ]
  },
  {
   "cell_type": "markdown",
   "id": "d4927486",
   "metadata": {},
   "source": [
    "## Feature importance (The effect of features on the predicted label)"
   ]
  },
  {
   "cell_type": "code",
   "execution_count": 93,
   "id": "6945f21e",
   "metadata": {},
   "outputs": [
    {
     "data": {
      "text/html": [
       "<div>\n",
       "<style scoped>\n",
       "    .dataframe tbody tr th:only-of-type {\n",
       "        vertical-align: middle;\n",
       "    }\n",
       "\n",
       "    .dataframe tbody tr th {\n",
       "        vertical-align: top;\n",
       "    }\n",
       "\n",
       "    .dataframe thead th {\n",
       "        text-align: right;\n",
       "    }\n",
       "</style>\n",
       "<table border=\"1\" class=\"dataframe\">\n",
       "  <thead>\n",
       "    <tr style=\"text-align: right;\">\n",
       "      <th></th>\n",
       "      <th>Coefficient</th>\n",
       "    </tr>\n",
       "  </thead>\n",
       "  <tbody>\n",
       "    <tr>\n",
       "      <th>TV</th>\n",
       "      <td>0.045765</td>\n",
       "    </tr>\n",
       "    <tr>\n",
       "      <th>radio</th>\n",
       "      <td>0.188530</td>\n",
       "    </tr>\n",
       "    <tr>\n",
       "      <th>newspaper</th>\n",
       "      <td>-0.001037</td>\n",
       "    </tr>\n",
       "  </tbody>\n",
       "</table>\n",
       "</div>"
      ],
      "text/plain": [
       "           Coefficient\n",
       "TV            0.045765\n",
       "radio         0.188530\n",
       "newspaper    -0.001037"
      ]
     },
     "execution_count": 93,
     "metadata": {},
     "output_type": "execute_result"
    }
   ],
   "source": [
    "coef_df"
   ]
  },
  {
   "cell_type": "code",
   "execution_count": 94,
   "id": "58bdc46e",
   "metadata": {},
   "outputs": [
    {
     "data": {
      "text/plain": [
       "array([[150],\n",
       "       [ 20],\n",
       "       [ 15]])"
      ]
     },
     "execution_count": 94,
     "metadata": {},
     "output_type": "execute_result"
    }
   ],
   "source": [
    "np.array(adv).reshape(3, 1)"
   ]
  },
  {
   "cell_type": "code",
   "execution_count": 95,
   "id": "d10b8831",
   "metadata": {},
   "outputs": [
    {
     "data": {
      "text/html": [
       "<div>\n",
       "<style scoped>\n",
       "    .dataframe tbody tr th:only-of-type {\n",
       "        vertical-align: middle;\n",
       "    }\n",
       "\n",
       "    .dataframe tbody tr th {\n",
       "        vertical-align: top;\n",
       "    }\n",
       "\n",
       "    .dataframe thead th {\n",
       "        text-align: right;\n",
       "    }\n",
       "</style>\n",
       "<table border=\"1\" class=\"dataframe\">\n",
       "  <thead>\n",
       "    <tr style=\"text-align: right;\">\n",
       "      <th></th>\n",
       "      <th>Coefficient</th>\n",
       "    </tr>\n",
       "  </thead>\n",
       "  <tbody>\n",
       "    <tr>\n",
       "      <th>TV</th>\n",
       "      <td>6.864697</td>\n",
       "    </tr>\n",
       "    <tr>\n",
       "      <th>radio</th>\n",
       "      <td>3.770600</td>\n",
       "    </tr>\n",
       "    <tr>\n",
       "      <th>newspaper</th>\n",
       "      <td>-0.015562</td>\n",
       "    </tr>\n",
       "  </tbody>\n",
       "</table>\n",
       "</div>"
      ],
      "text/plain": [
       "           Coefficient\n",
       "TV            6.864697\n",
       "radio         3.770600\n",
       "newspaper    -0.015562"
      ]
     },
     "execution_count": 95,
     "metadata": {},
     "output_type": "execute_result"
    }
   ],
   "source": [
    "coef_df * np.array(adv).reshape(3, 1)"
   ]
  },
  {
   "cell_type": "code",
   "execution_count": 96,
   "id": "279262bd",
   "metadata": {},
   "outputs": [
    {
     "data": {
      "text/plain": [
       "0.5062974630892729"
      ]
     },
     "execution_count": 96,
     "metadata": {},
     "output_type": "execute_result"
    }
   ],
   "source": [
    "6.864697 / 13.55862413  # TV reklamının satışa etkisi etkisi %50"
   ]
  },
  {
   "cell_type": "code",
   "execution_count": 97,
   "id": "cf36051c",
   "metadata": {},
   "outputs": [
    {
     "data": {
      "text/plain": [
       "0.2780960637191142"
      ]
     },
     "execution_count": 97,
     "metadata": {},
     "output_type": "execute_result"
    }
   ],
   "source": [
    "3.770600 / 13.55862413 # radio reklamının satışa etkisi %27"
   ]
  },
  {
   "cell_type": "code",
   "execution_count": 98,
   "id": "779b4998",
   "metadata": {},
   "outputs": [
    {
     "data": {
      "text/plain": [
       "-0.0011477565755043907"
      ]
     },
     "execution_count": 98,
     "metadata": {},
     "output_type": "execute_result"
    }
   ],
   "source": [
    "-0.015562 / 13.55862413  # gazete reklamının satışa etkisi %0.1"
   ]
  },
  {
   "cell_type": "code",
   "execution_count": 99,
   "id": "a6804710",
   "metadata": {},
   "outputs": [
    {
     "data": {
      "text/plain": [
       "0.2167542474281575"
      ]
     },
     "execution_count": 99,
     "metadata": {},
     "output_type": "execute_result"
    }
   ],
   "source": [
    "final_model.intercept_ / 13.55862413  # intercept imin satışa etkisi %21"
   ]
  },
  {
   "cell_type": "code",
   "execution_count": null,
   "id": "0dc3132a",
   "metadata": {},
   "outputs": [],
   "source": []
  },
  {
   "cell_type": "code",
   "execution_count": null,
   "id": "4eb3d1e3",
   "metadata": {},
   "outputs": [],
   "source": []
  }
 ],
 "metadata": {
  "kernelspec": {
   "display_name": "Python 3",
   "language": "python",
   "name": "python3"
  },
  "language_info": {
   "codemirror_mode": {
    "name": "ipython",
    "version": 3
   },
   "file_extension": ".py",
   "mimetype": "text/x-python",
   "name": "python",
   "nbconvert_exporter": "python",
   "pygments_lexer": "ipython3",
   "version": "3.8.8"
  }
 },
 "nbformat": 4,
 "nbformat_minor": 5
}
